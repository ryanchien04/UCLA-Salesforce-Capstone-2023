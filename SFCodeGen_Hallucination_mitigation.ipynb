{
  "nbformat": 4,
  "nbformat_minor": 0,
  "metadata": {
    "colab": {
      "provenance": [],
      "gpuType": "T4"
    },
    "kernelspec": {
      "name": "python3",
      "display_name": "Python 3"
    },
    "language_info": {
      "name": "python"
    },
    "accelerator": "GPU",
    "widgets": {
      "application/vnd.jupyter.widget-state+json": {
        "4c02838cc3be48228c3cdc98a7d9489c": {
          "model_module": "@jupyter-widgets/controls",
          "model_name": "HBoxModel",
          "model_module_version": "1.5.0",
          "state": {
            "_dom_classes": [],
            "_model_module": "@jupyter-widgets/controls",
            "_model_module_version": "1.5.0",
            "_model_name": "HBoxModel",
            "_view_count": null,
            "_view_module": "@jupyter-widgets/controls",
            "_view_module_version": "1.5.0",
            "_view_name": "HBoxView",
            "box_style": "",
            "children": [
              "IPY_MODEL_ee22982ecd974468a4f47fd6207f0f21",
              "IPY_MODEL_780c4c0565aa48cbacd2ad9ce6d7e73b",
              "IPY_MODEL_14f3c3cc6a0940968e8f214a6f95c252"
            ],
            "layout": "IPY_MODEL_e54e68b7e96942fb888bf3a18784c260"
          }
        },
        "ee22982ecd974468a4f47fd6207f0f21": {
          "model_module": "@jupyter-widgets/controls",
          "model_name": "HTMLModel",
          "model_module_version": "1.5.0",
          "state": {
            "_dom_classes": [],
            "_model_module": "@jupyter-widgets/controls",
            "_model_module_version": "1.5.0",
            "_model_name": "HTMLModel",
            "_view_count": null,
            "_view_module": "@jupyter-widgets/controls",
            "_view_module_version": "1.5.0",
            "_view_name": "HTMLView",
            "description": "",
            "description_tooltip": null,
            "layout": "IPY_MODEL_899b65ba6df14eed92a295c92797a275",
            "placeholder": "​",
            "style": "IPY_MODEL_4f730d3dde9a45688d3f26fd447a38e2",
            "value": "Downloading (…)okenizer_config.json: 100%"
          }
        },
        "780c4c0565aa48cbacd2ad9ce6d7e73b": {
          "model_module": "@jupyter-widgets/controls",
          "model_name": "FloatProgressModel",
          "model_module_version": "1.5.0",
          "state": {
            "_dom_classes": [],
            "_model_module": "@jupyter-widgets/controls",
            "_model_module_version": "1.5.0",
            "_model_name": "FloatProgressModel",
            "_view_count": null,
            "_view_module": "@jupyter-widgets/controls",
            "_view_module_version": "1.5.0",
            "_view_name": "ProgressView",
            "bar_style": "success",
            "description": "",
            "description_tooltip": null,
            "layout": "IPY_MODEL_a01004f08cab4007baf6545e0e2dfa42",
            "max": 240,
            "min": 0,
            "orientation": "horizontal",
            "style": "IPY_MODEL_1fe0d91053474bd38e176d9d6443996b",
            "value": 240
          }
        },
        "14f3c3cc6a0940968e8f214a6f95c252": {
          "model_module": "@jupyter-widgets/controls",
          "model_name": "HTMLModel",
          "model_module_version": "1.5.0",
          "state": {
            "_dom_classes": [],
            "_model_module": "@jupyter-widgets/controls",
            "_model_module_version": "1.5.0",
            "_model_name": "HTMLModel",
            "_view_count": null,
            "_view_module": "@jupyter-widgets/controls",
            "_view_module_version": "1.5.0",
            "_view_name": "HTMLView",
            "description": "",
            "description_tooltip": null,
            "layout": "IPY_MODEL_fab2c6da73eb4ed2a0a2005dd357d44c",
            "placeholder": "​",
            "style": "IPY_MODEL_6eb6d56fed4d411692b424c0e85aa191",
            "value": " 240/240 [00:00&lt;00:00, 11.2kB/s]"
          }
        },
        "e54e68b7e96942fb888bf3a18784c260": {
          "model_module": "@jupyter-widgets/base",
          "model_name": "LayoutModel",
          "model_module_version": "1.2.0",
          "state": {
            "_model_module": "@jupyter-widgets/base",
            "_model_module_version": "1.2.0",
            "_model_name": "LayoutModel",
            "_view_count": null,
            "_view_module": "@jupyter-widgets/base",
            "_view_module_version": "1.2.0",
            "_view_name": "LayoutView",
            "align_content": null,
            "align_items": null,
            "align_self": null,
            "border": null,
            "bottom": null,
            "display": null,
            "flex": null,
            "flex_flow": null,
            "grid_area": null,
            "grid_auto_columns": null,
            "grid_auto_flow": null,
            "grid_auto_rows": null,
            "grid_column": null,
            "grid_gap": null,
            "grid_row": null,
            "grid_template_areas": null,
            "grid_template_columns": null,
            "grid_template_rows": null,
            "height": null,
            "justify_content": null,
            "justify_items": null,
            "left": null,
            "margin": null,
            "max_height": null,
            "max_width": null,
            "min_height": null,
            "min_width": null,
            "object_fit": null,
            "object_position": null,
            "order": null,
            "overflow": null,
            "overflow_x": null,
            "overflow_y": null,
            "padding": null,
            "right": null,
            "top": null,
            "visibility": null,
            "width": null
          }
        },
        "899b65ba6df14eed92a295c92797a275": {
          "model_module": "@jupyter-widgets/base",
          "model_name": "LayoutModel",
          "model_module_version": "1.2.0",
          "state": {
            "_model_module": "@jupyter-widgets/base",
            "_model_module_version": "1.2.0",
            "_model_name": "LayoutModel",
            "_view_count": null,
            "_view_module": "@jupyter-widgets/base",
            "_view_module_version": "1.2.0",
            "_view_name": "LayoutView",
            "align_content": null,
            "align_items": null,
            "align_self": null,
            "border": null,
            "bottom": null,
            "display": null,
            "flex": null,
            "flex_flow": null,
            "grid_area": null,
            "grid_auto_columns": null,
            "grid_auto_flow": null,
            "grid_auto_rows": null,
            "grid_column": null,
            "grid_gap": null,
            "grid_row": null,
            "grid_template_areas": null,
            "grid_template_columns": null,
            "grid_template_rows": null,
            "height": null,
            "justify_content": null,
            "justify_items": null,
            "left": null,
            "margin": null,
            "max_height": null,
            "max_width": null,
            "min_height": null,
            "min_width": null,
            "object_fit": null,
            "object_position": null,
            "order": null,
            "overflow": null,
            "overflow_x": null,
            "overflow_y": null,
            "padding": null,
            "right": null,
            "top": null,
            "visibility": null,
            "width": null
          }
        },
        "4f730d3dde9a45688d3f26fd447a38e2": {
          "model_module": "@jupyter-widgets/controls",
          "model_name": "DescriptionStyleModel",
          "model_module_version": "1.5.0",
          "state": {
            "_model_module": "@jupyter-widgets/controls",
            "_model_module_version": "1.5.0",
            "_model_name": "DescriptionStyleModel",
            "_view_count": null,
            "_view_module": "@jupyter-widgets/base",
            "_view_module_version": "1.2.0",
            "_view_name": "StyleView",
            "description_width": ""
          }
        },
        "a01004f08cab4007baf6545e0e2dfa42": {
          "model_module": "@jupyter-widgets/base",
          "model_name": "LayoutModel",
          "model_module_version": "1.2.0",
          "state": {
            "_model_module": "@jupyter-widgets/base",
            "_model_module_version": "1.2.0",
            "_model_name": "LayoutModel",
            "_view_count": null,
            "_view_module": "@jupyter-widgets/base",
            "_view_module_version": "1.2.0",
            "_view_name": "LayoutView",
            "align_content": null,
            "align_items": null,
            "align_self": null,
            "border": null,
            "bottom": null,
            "display": null,
            "flex": null,
            "flex_flow": null,
            "grid_area": null,
            "grid_auto_columns": null,
            "grid_auto_flow": null,
            "grid_auto_rows": null,
            "grid_column": null,
            "grid_gap": null,
            "grid_row": null,
            "grid_template_areas": null,
            "grid_template_columns": null,
            "grid_template_rows": null,
            "height": null,
            "justify_content": null,
            "justify_items": null,
            "left": null,
            "margin": null,
            "max_height": null,
            "max_width": null,
            "min_height": null,
            "min_width": null,
            "object_fit": null,
            "object_position": null,
            "order": null,
            "overflow": null,
            "overflow_x": null,
            "overflow_y": null,
            "padding": null,
            "right": null,
            "top": null,
            "visibility": null,
            "width": null
          }
        },
        "1fe0d91053474bd38e176d9d6443996b": {
          "model_module": "@jupyter-widgets/controls",
          "model_name": "ProgressStyleModel",
          "model_module_version": "1.5.0",
          "state": {
            "_model_module": "@jupyter-widgets/controls",
            "_model_module_version": "1.5.0",
            "_model_name": "ProgressStyleModel",
            "_view_count": null,
            "_view_module": "@jupyter-widgets/base",
            "_view_module_version": "1.2.0",
            "_view_name": "StyleView",
            "bar_color": null,
            "description_width": ""
          }
        },
        "fab2c6da73eb4ed2a0a2005dd357d44c": {
          "model_module": "@jupyter-widgets/base",
          "model_name": "LayoutModel",
          "model_module_version": "1.2.0",
          "state": {
            "_model_module": "@jupyter-widgets/base",
            "_model_module_version": "1.2.0",
            "_model_name": "LayoutModel",
            "_view_count": null,
            "_view_module": "@jupyter-widgets/base",
            "_view_module_version": "1.2.0",
            "_view_name": "LayoutView",
            "align_content": null,
            "align_items": null,
            "align_self": null,
            "border": null,
            "bottom": null,
            "display": null,
            "flex": null,
            "flex_flow": null,
            "grid_area": null,
            "grid_auto_columns": null,
            "grid_auto_flow": null,
            "grid_auto_rows": null,
            "grid_column": null,
            "grid_gap": null,
            "grid_row": null,
            "grid_template_areas": null,
            "grid_template_columns": null,
            "grid_template_rows": null,
            "height": null,
            "justify_content": null,
            "justify_items": null,
            "left": null,
            "margin": null,
            "max_height": null,
            "max_width": null,
            "min_height": null,
            "min_width": null,
            "object_fit": null,
            "object_position": null,
            "order": null,
            "overflow": null,
            "overflow_x": null,
            "overflow_y": null,
            "padding": null,
            "right": null,
            "top": null,
            "visibility": null,
            "width": null
          }
        },
        "6eb6d56fed4d411692b424c0e85aa191": {
          "model_module": "@jupyter-widgets/controls",
          "model_name": "DescriptionStyleModel",
          "model_module_version": "1.5.0",
          "state": {
            "_model_module": "@jupyter-widgets/controls",
            "_model_module_version": "1.5.0",
            "_model_name": "DescriptionStyleModel",
            "_view_count": null,
            "_view_module": "@jupyter-widgets/base",
            "_view_module_version": "1.2.0",
            "_view_name": "StyleView",
            "description_width": ""
          }
        },
        "7caef00c43be446eaf79c301c4c0fa1c": {
          "model_module": "@jupyter-widgets/controls",
          "model_name": "HBoxModel",
          "model_module_version": "1.5.0",
          "state": {
            "_dom_classes": [],
            "_model_module": "@jupyter-widgets/controls",
            "_model_module_version": "1.5.0",
            "_model_name": "HBoxModel",
            "_view_count": null,
            "_view_module": "@jupyter-widgets/controls",
            "_view_module_version": "1.5.0",
            "_view_name": "HBoxView",
            "box_style": "",
            "children": [
              "IPY_MODEL_4578ca1cf85f4cd5a59be5726cdd0ece",
              "IPY_MODEL_d4c831b00cc44372bcf5a68ca8c5ada6",
              "IPY_MODEL_74dc028804b94bc982feec9694a28800"
            ],
            "layout": "IPY_MODEL_37d262772e3f47bdb64644c2bc13afd7"
          }
        },
        "4578ca1cf85f4cd5a59be5726cdd0ece": {
          "model_module": "@jupyter-widgets/controls",
          "model_name": "HTMLModel",
          "model_module_version": "1.5.0",
          "state": {
            "_dom_classes": [],
            "_model_module": "@jupyter-widgets/controls",
            "_model_module_version": "1.5.0",
            "_model_name": "HTMLModel",
            "_view_count": null,
            "_view_module": "@jupyter-widgets/controls",
            "_view_module_version": "1.5.0",
            "_view_name": "HTMLView",
            "description": "",
            "description_tooltip": null,
            "layout": "IPY_MODEL_b6ab217fef6f43b0b64cd3a8fa4d4205",
            "placeholder": "​",
            "style": "IPY_MODEL_34e1c5fb44354eb884efe3a9a1b7fda1",
            "value": "Downloading (…)olve/main/vocab.json: 100%"
          }
        },
        "d4c831b00cc44372bcf5a68ca8c5ada6": {
          "model_module": "@jupyter-widgets/controls",
          "model_name": "FloatProgressModel",
          "model_module_version": "1.5.0",
          "state": {
            "_dom_classes": [],
            "_model_module": "@jupyter-widgets/controls",
            "_model_module_version": "1.5.0",
            "_model_name": "FloatProgressModel",
            "_view_count": null,
            "_view_module": "@jupyter-widgets/controls",
            "_view_module_version": "1.5.0",
            "_view_name": "ProgressView",
            "bar_style": "success",
            "description": "",
            "description_tooltip": null,
            "layout": "IPY_MODEL_72c068b697454254851788ade06a229d",
            "max": 798156,
            "min": 0,
            "orientation": "horizontal",
            "style": "IPY_MODEL_b3bbc7fe5c934bd0bbaed18620aaf489",
            "value": 798156
          }
        },
        "74dc028804b94bc982feec9694a28800": {
          "model_module": "@jupyter-widgets/controls",
          "model_name": "HTMLModel",
          "model_module_version": "1.5.0",
          "state": {
            "_dom_classes": [],
            "_model_module": "@jupyter-widgets/controls",
            "_model_module_version": "1.5.0",
            "_model_name": "HTMLModel",
            "_view_count": null,
            "_view_module": "@jupyter-widgets/controls",
            "_view_module_version": "1.5.0",
            "_view_name": "HTMLView",
            "description": "",
            "description_tooltip": null,
            "layout": "IPY_MODEL_18ba5b6ed6d341088fcf08cea0929a40",
            "placeholder": "​",
            "style": "IPY_MODEL_1658c26ce7bc46589a99df34a868c4d6",
            "value": " 798k/798k [00:00&lt;00:00, 11.1MB/s]"
          }
        },
        "37d262772e3f47bdb64644c2bc13afd7": {
          "model_module": "@jupyter-widgets/base",
          "model_name": "LayoutModel",
          "model_module_version": "1.2.0",
          "state": {
            "_model_module": "@jupyter-widgets/base",
            "_model_module_version": "1.2.0",
            "_model_name": "LayoutModel",
            "_view_count": null,
            "_view_module": "@jupyter-widgets/base",
            "_view_module_version": "1.2.0",
            "_view_name": "LayoutView",
            "align_content": null,
            "align_items": null,
            "align_self": null,
            "border": null,
            "bottom": null,
            "display": null,
            "flex": null,
            "flex_flow": null,
            "grid_area": null,
            "grid_auto_columns": null,
            "grid_auto_flow": null,
            "grid_auto_rows": null,
            "grid_column": null,
            "grid_gap": null,
            "grid_row": null,
            "grid_template_areas": null,
            "grid_template_columns": null,
            "grid_template_rows": null,
            "height": null,
            "justify_content": null,
            "justify_items": null,
            "left": null,
            "margin": null,
            "max_height": null,
            "max_width": null,
            "min_height": null,
            "min_width": null,
            "object_fit": null,
            "object_position": null,
            "order": null,
            "overflow": null,
            "overflow_x": null,
            "overflow_y": null,
            "padding": null,
            "right": null,
            "top": null,
            "visibility": null,
            "width": null
          }
        },
        "b6ab217fef6f43b0b64cd3a8fa4d4205": {
          "model_module": "@jupyter-widgets/base",
          "model_name": "LayoutModel",
          "model_module_version": "1.2.0",
          "state": {
            "_model_module": "@jupyter-widgets/base",
            "_model_module_version": "1.2.0",
            "_model_name": "LayoutModel",
            "_view_count": null,
            "_view_module": "@jupyter-widgets/base",
            "_view_module_version": "1.2.0",
            "_view_name": "LayoutView",
            "align_content": null,
            "align_items": null,
            "align_self": null,
            "border": null,
            "bottom": null,
            "display": null,
            "flex": null,
            "flex_flow": null,
            "grid_area": null,
            "grid_auto_columns": null,
            "grid_auto_flow": null,
            "grid_auto_rows": null,
            "grid_column": null,
            "grid_gap": null,
            "grid_row": null,
            "grid_template_areas": null,
            "grid_template_columns": null,
            "grid_template_rows": null,
            "height": null,
            "justify_content": null,
            "justify_items": null,
            "left": null,
            "margin": null,
            "max_height": null,
            "max_width": null,
            "min_height": null,
            "min_width": null,
            "object_fit": null,
            "object_position": null,
            "order": null,
            "overflow": null,
            "overflow_x": null,
            "overflow_y": null,
            "padding": null,
            "right": null,
            "top": null,
            "visibility": null,
            "width": null
          }
        },
        "34e1c5fb44354eb884efe3a9a1b7fda1": {
          "model_module": "@jupyter-widgets/controls",
          "model_name": "DescriptionStyleModel",
          "model_module_version": "1.5.0",
          "state": {
            "_model_module": "@jupyter-widgets/controls",
            "_model_module_version": "1.5.0",
            "_model_name": "DescriptionStyleModel",
            "_view_count": null,
            "_view_module": "@jupyter-widgets/base",
            "_view_module_version": "1.2.0",
            "_view_name": "StyleView",
            "description_width": ""
          }
        },
        "72c068b697454254851788ade06a229d": {
          "model_module": "@jupyter-widgets/base",
          "model_name": "LayoutModel",
          "model_module_version": "1.2.0",
          "state": {
            "_model_module": "@jupyter-widgets/base",
            "_model_module_version": "1.2.0",
            "_model_name": "LayoutModel",
            "_view_count": null,
            "_view_module": "@jupyter-widgets/base",
            "_view_module_version": "1.2.0",
            "_view_name": "LayoutView",
            "align_content": null,
            "align_items": null,
            "align_self": null,
            "border": null,
            "bottom": null,
            "display": null,
            "flex": null,
            "flex_flow": null,
            "grid_area": null,
            "grid_auto_columns": null,
            "grid_auto_flow": null,
            "grid_auto_rows": null,
            "grid_column": null,
            "grid_gap": null,
            "grid_row": null,
            "grid_template_areas": null,
            "grid_template_columns": null,
            "grid_template_rows": null,
            "height": null,
            "justify_content": null,
            "justify_items": null,
            "left": null,
            "margin": null,
            "max_height": null,
            "max_width": null,
            "min_height": null,
            "min_width": null,
            "object_fit": null,
            "object_position": null,
            "order": null,
            "overflow": null,
            "overflow_x": null,
            "overflow_y": null,
            "padding": null,
            "right": null,
            "top": null,
            "visibility": null,
            "width": null
          }
        },
        "b3bbc7fe5c934bd0bbaed18620aaf489": {
          "model_module": "@jupyter-widgets/controls",
          "model_name": "ProgressStyleModel",
          "model_module_version": "1.5.0",
          "state": {
            "_model_module": "@jupyter-widgets/controls",
            "_model_module_version": "1.5.0",
            "_model_name": "ProgressStyleModel",
            "_view_count": null,
            "_view_module": "@jupyter-widgets/base",
            "_view_module_version": "1.2.0",
            "_view_name": "StyleView",
            "bar_color": null,
            "description_width": ""
          }
        },
        "18ba5b6ed6d341088fcf08cea0929a40": {
          "model_module": "@jupyter-widgets/base",
          "model_name": "LayoutModel",
          "model_module_version": "1.2.0",
          "state": {
            "_model_module": "@jupyter-widgets/base",
            "_model_module_version": "1.2.0",
            "_model_name": "LayoutModel",
            "_view_count": null,
            "_view_module": "@jupyter-widgets/base",
            "_view_module_version": "1.2.0",
            "_view_name": "LayoutView",
            "align_content": null,
            "align_items": null,
            "align_self": null,
            "border": null,
            "bottom": null,
            "display": null,
            "flex": null,
            "flex_flow": null,
            "grid_area": null,
            "grid_auto_columns": null,
            "grid_auto_flow": null,
            "grid_auto_rows": null,
            "grid_column": null,
            "grid_gap": null,
            "grid_row": null,
            "grid_template_areas": null,
            "grid_template_columns": null,
            "grid_template_rows": null,
            "height": null,
            "justify_content": null,
            "justify_items": null,
            "left": null,
            "margin": null,
            "max_height": null,
            "max_width": null,
            "min_height": null,
            "min_width": null,
            "object_fit": null,
            "object_position": null,
            "order": null,
            "overflow": null,
            "overflow_x": null,
            "overflow_y": null,
            "padding": null,
            "right": null,
            "top": null,
            "visibility": null,
            "width": null
          }
        },
        "1658c26ce7bc46589a99df34a868c4d6": {
          "model_module": "@jupyter-widgets/controls",
          "model_name": "DescriptionStyleModel",
          "model_module_version": "1.5.0",
          "state": {
            "_model_module": "@jupyter-widgets/controls",
            "_model_module_version": "1.5.0",
            "_model_name": "DescriptionStyleModel",
            "_view_count": null,
            "_view_module": "@jupyter-widgets/base",
            "_view_module_version": "1.2.0",
            "_view_name": "StyleView",
            "description_width": ""
          }
        },
        "c86371ff02634319ae323c011657d8fe": {
          "model_module": "@jupyter-widgets/controls",
          "model_name": "HBoxModel",
          "model_module_version": "1.5.0",
          "state": {
            "_dom_classes": [],
            "_model_module": "@jupyter-widgets/controls",
            "_model_module_version": "1.5.0",
            "_model_name": "HBoxModel",
            "_view_count": null,
            "_view_module": "@jupyter-widgets/controls",
            "_view_module_version": "1.5.0",
            "_view_name": "HBoxView",
            "box_style": "",
            "children": [
              "IPY_MODEL_f965c25dd43e4b13875df7fa4ecd77a2",
              "IPY_MODEL_2dcb456e01c1493197be429f7a705507",
              "IPY_MODEL_cff2853f0bdc47de95638397c26fc447"
            ],
            "layout": "IPY_MODEL_874b2e31fc3b49a99cb258ff19d76329"
          }
        },
        "f965c25dd43e4b13875df7fa4ecd77a2": {
          "model_module": "@jupyter-widgets/controls",
          "model_name": "HTMLModel",
          "model_module_version": "1.5.0",
          "state": {
            "_dom_classes": [],
            "_model_module": "@jupyter-widgets/controls",
            "_model_module_version": "1.5.0",
            "_model_name": "HTMLModel",
            "_view_count": null,
            "_view_module": "@jupyter-widgets/controls",
            "_view_module_version": "1.5.0",
            "_view_name": "HTMLView",
            "description": "",
            "description_tooltip": null,
            "layout": "IPY_MODEL_6dcf2f8e7b68444c94144c22c3460db4",
            "placeholder": "​",
            "style": "IPY_MODEL_6856224470854e56bf45ade587b6bd0f",
            "value": "Downloading (…)olve/main/merges.txt: 100%"
          }
        },
        "2dcb456e01c1493197be429f7a705507": {
          "model_module": "@jupyter-widgets/controls",
          "model_name": "FloatProgressModel",
          "model_module_version": "1.5.0",
          "state": {
            "_dom_classes": [],
            "_model_module": "@jupyter-widgets/controls",
            "_model_module_version": "1.5.0",
            "_model_name": "FloatProgressModel",
            "_view_count": null,
            "_view_module": "@jupyter-widgets/controls",
            "_view_module_version": "1.5.0",
            "_view_name": "ProgressView",
            "bar_style": "success",
            "description": "",
            "description_tooltip": null,
            "layout": "IPY_MODEL_d564e48dc58547fdb19b00839b9a0516",
            "max": 456356,
            "min": 0,
            "orientation": "horizontal",
            "style": "IPY_MODEL_b0b9dcb510e24447ae4eb836b1650490",
            "value": 456356
          }
        },
        "cff2853f0bdc47de95638397c26fc447": {
          "model_module": "@jupyter-widgets/controls",
          "model_name": "HTMLModel",
          "model_module_version": "1.5.0",
          "state": {
            "_dom_classes": [],
            "_model_module": "@jupyter-widgets/controls",
            "_model_module_version": "1.5.0",
            "_model_name": "HTMLModel",
            "_view_count": null,
            "_view_module": "@jupyter-widgets/controls",
            "_view_module_version": "1.5.0",
            "_view_name": "HTMLView",
            "description": "",
            "description_tooltip": null,
            "layout": "IPY_MODEL_a583a6ce4e144cf688f3cd1ad0cd8ce9",
            "placeholder": "​",
            "style": "IPY_MODEL_feacd401c3ea4236a176634d2196c596",
            "value": " 456k/456k [00:00&lt;00:00, 6.39MB/s]"
          }
        },
        "874b2e31fc3b49a99cb258ff19d76329": {
          "model_module": "@jupyter-widgets/base",
          "model_name": "LayoutModel",
          "model_module_version": "1.2.0",
          "state": {
            "_model_module": "@jupyter-widgets/base",
            "_model_module_version": "1.2.0",
            "_model_name": "LayoutModel",
            "_view_count": null,
            "_view_module": "@jupyter-widgets/base",
            "_view_module_version": "1.2.0",
            "_view_name": "LayoutView",
            "align_content": null,
            "align_items": null,
            "align_self": null,
            "border": null,
            "bottom": null,
            "display": null,
            "flex": null,
            "flex_flow": null,
            "grid_area": null,
            "grid_auto_columns": null,
            "grid_auto_flow": null,
            "grid_auto_rows": null,
            "grid_column": null,
            "grid_gap": null,
            "grid_row": null,
            "grid_template_areas": null,
            "grid_template_columns": null,
            "grid_template_rows": null,
            "height": null,
            "justify_content": null,
            "justify_items": null,
            "left": null,
            "margin": null,
            "max_height": null,
            "max_width": null,
            "min_height": null,
            "min_width": null,
            "object_fit": null,
            "object_position": null,
            "order": null,
            "overflow": null,
            "overflow_x": null,
            "overflow_y": null,
            "padding": null,
            "right": null,
            "top": null,
            "visibility": null,
            "width": null
          }
        },
        "6dcf2f8e7b68444c94144c22c3460db4": {
          "model_module": "@jupyter-widgets/base",
          "model_name": "LayoutModel",
          "model_module_version": "1.2.0",
          "state": {
            "_model_module": "@jupyter-widgets/base",
            "_model_module_version": "1.2.0",
            "_model_name": "LayoutModel",
            "_view_count": null,
            "_view_module": "@jupyter-widgets/base",
            "_view_module_version": "1.2.0",
            "_view_name": "LayoutView",
            "align_content": null,
            "align_items": null,
            "align_self": null,
            "border": null,
            "bottom": null,
            "display": null,
            "flex": null,
            "flex_flow": null,
            "grid_area": null,
            "grid_auto_columns": null,
            "grid_auto_flow": null,
            "grid_auto_rows": null,
            "grid_column": null,
            "grid_gap": null,
            "grid_row": null,
            "grid_template_areas": null,
            "grid_template_columns": null,
            "grid_template_rows": null,
            "height": null,
            "justify_content": null,
            "justify_items": null,
            "left": null,
            "margin": null,
            "max_height": null,
            "max_width": null,
            "min_height": null,
            "min_width": null,
            "object_fit": null,
            "object_position": null,
            "order": null,
            "overflow": null,
            "overflow_x": null,
            "overflow_y": null,
            "padding": null,
            "right": null,
            "top": null,
            "visibility": null,
            "width": null
          }
        },
        "6856224470854e56bf45ade587b6bd0f": {
          "model_module": "@jupyter-widgets/controls",
          "model_name": "DescriptionStyleModel",
          "model_module_version": "1.5.0",
          "state": {
            "_model_module": "@jupyter-widgets/controls",
            "_model_module_version": "1.5.0",
            "_model_name": "DescriptionStyleModel",
            "_view_count": null,
            "_view_module": "@jupyter-widgets/base",
            "_view_module_version": "1.2.0",
            "_view_name": "StyleView",
            "description_width": ""
          }
        },
        "d564e48dc58547fdb19b00839b9a0516": {
          "model_module": "@jupyter-widgets/base",
          "model_name": "LayoutModel",
          "model_module_version": "1.2.0",
          "state": {
            "_model_module": "@jupyter-widgets/base",
            "_model_module_version": "1.2.0",
            "_model_name": "LayoutModel",
            "_view_count": null,
            "_view_module": "@jupyter-widgets/base",
            "_view_module_version": "1.2.0",
            "_view_name": "LayoutView",
            "align_content": null,
            "align_items": null,
            "align_self": null,
            "border": null,
            "bottom": null,
            "display": null,
            "flex": null,
            "flex_flow": null,
            "grid_area": null,
            "grid_auto_columns": null,
            "grid_auto_flow": null,
            "grid_auto_rows": null,
            "grid_column": null,
            "grid_gap": null,
            "grid_row": null,
            "grid_template_areas": null,
            "grid_template_columns": null,
            "grid_template_rows": null,
            "height": null,
            "justify_content": null,
            "justify_items": null,
            "left": null,
            "margin": null,
            "max_height": null,
            "max_width": null,
            "min_height": null,
            "min_width": null,
            "object_fit": null,
            "object_position": null,
            "order": null,
            "overflow": null,
            "overflow_x": null,
            "overflow_y": null,
            "padding": null,
            "right": null,
            "top": null,
            "visibility": null,
            "width": null
          }
        },
        "b0b9dcb510e24447ae4eb836b1650490": {
          "model_module": "@jupyter-widgets/controls",
          "model_name": "ProgressStyleModel",
          "model_module_version": "1.5.0",
          "state": {
            "_model_module": "@jupyter-widgets/controls",
            "_model_module_version": "1.5.0",
            "_model_name": "ProgressStyleModel",
            "_view_count": null,
            "_view_module": "@jupyter-widgets/base",
            "_view_module_version": "1.2.0",
            "_view_name": "StyleView",
            "bar_color": null,
            "description_width": ""
          }
        },
        "a583a6ce4e144cf688f3cd1ad0cd8ce9": {
          "model_module": "@jupyter-widgets/base",
          "model_name": "LayoutModel",
          "model_module_version": "1.2.0",
          "state": {
            "_model_module": "@jupyter-widgets/base",
            "_model_module_version": "1.2.0",
            "_model_name": "LayoutModel",
            "_view_count": null,
            "_view_module": "@jupyter-widgets/base",
            "_view_module_version": "1.2.0",
            "_view_name": "LayoutView",
            "align_content": null,
            "align_items": null,
            "align_self": null,
            "border": null,
            "bottom": null,
            "display": null,
            "flex": null,
            "flex_flow": null,
            "grid_area": null,
            "grid_auto_columns": null,
            "grid_auto_flow": null,
            "grid_auto_rows": null,
            "grid_column": null,
            "grid_gap": null,
            "grid_row": null,
            "grid_template_areas": null,
            "grid_template_columns": null,
            "grid_template_rows": null,
            "height": null,
            "justify_content": null,
            "justify_items": null,
            "left": null,
            "margin": null,
            "max_height": null,
            "max_width": null,
            "min_height": null,
            "min_width": null,
            "object_fit": null,
            "object_position": null,
            "order": null,
            "overflow": null,
            "overflow_x": null,
            "overflow_y": null,
            "padding": null,
            "right": null,
            "top": null,
            "visibility": null,
            "width": null
          }
        },
        "feacd401c3ea4236a176634d2196c596": {
          "model_module": "@jupyter-widgets/controls",
          "model_name": "DescriptionStyleModel",
          "model_module_version": "1.5.0",
          "state": {
            "_model_module": "@jupyter-widgets/controls",
            "_model_module_version": "1.5.0",
            "_model_name": "DescriptionStyleModel",
            "_view_count": null,
            "_view_module": "@jupyter-widgets/base",
            "_view_module_version": "1.2.0",
            "_view_name": "StyleView",
            "description_width": ""
          }
        },
        "e1add8018c8d44c48702fb76d97fedff": {
          "model_module": "@jupyter-widgets/controls",
          "model_name": "HBoxModel",
          "model_module_version": "1.5.0",
          "state": {
            "_dom_classes": [],
            "_model_module": "@jupyter-widgets/controls",
            "_model_module_version": "1.5.0",
            "_model_name": "HBoxModel",
            "_view_count": null,
            "_view_module": "@jupyter-widgets/controls",
            "_view_module_version": "1.5.0",
            "_view_name": "HBoxView",
            "box_style": "",
            "children": [
              "IPY_MODEL_7bda9d820ad4467d981fbd42b0753f9a",
              "IPY_MODEL_f52f33dff9394d27b016f74e54d0d677",
              "IPY_MODEL_57ae91f7f1dd418b9d2701913ecf15c1"
            ],
            "layout": "IPY_MODEL_c3a69baadac24081a3e92c5eacf015ca"
          }
        },
        "7bda9d820ad4467d981fbd42b0753f9a": {
          "model_module": "@jupyter-widgets/controls",
          "model_name": "HTMLModel",
          "model_module_version": "1.5.0",
          "state": {
            "_dom_classes": [],
            "_model_module": "@jupyter-widgets/controls",
            "_model_module_version": "1.5.0",
            "_model_name": "HTMLModel",
            "_view_count": null,
            "_view_module": "@jupyter-widgets/controls",
            "_view_module_version": "1.5.0",
            "_view_name": "HTMLView",
            "description": "",
            "description_tooltip": null,
            "layout": "IPY_MODEL_d787acdaf03647a49264a1c519b27aea",
            "placeholder": "​",
            "style": "IPY_MODEL_8f2dad4a551a44139c169fbd980bed5f",
            "value": "Downloading (…)/main/tokenizer.json: 100%"
          }
        },
        "f52f33dff9394d27b016f74e54d0d677": {
          "model_module": "@jupyter-widgets/controls",
          "model_name": "FloatProgressModel",
          "model_module_version": "1.5.0",
          "state": {
            "_dom_classes": [],
            "_model_module": "@jupyter-widgets/controls",
            "_model_module_version": "1.5.0",
            "_model_name": "FloatProgressModel",
            "_view_count": null,
            "_view_module": "@jupyter-widgets/controls",
            "_view_module_version": "1.5.0",
            "_view_name": "ProgressView",
            "bar_style": "success",
            "description": "",
            "description_tooltip": null,
            "layout": "IPY_MODEL_3b471e0e661148d3a3847cf117b63d1c",
            "max": 2114827,
            "min": 0,
            "orientation": "horizontal",
            "style": "IPY_MODEL_74c9f0e8b5e4422da22eefcd2396bdea",
            "value": 2114827
          }
        },
        "57ae91f7f1dd418b9d2701913ecf15c1": {
          "model_module": "@jupyter-widgets/controls",
          "model_name": "HTMLModel",
          "model_module_version": "1.5.0",
          "state": {
            "_dom_classes": [],
            "_model_module": "@jupyter-widgets/controls",
            "_model_module_version": "1.5.0",
            "_model_name": "HTMLModel",
            "_view_count": null,
            "_view_module": "@jupyter-widgets/controls",
            "_view_module_version": "1.5.0",
            "_view_name": "HTMLView",
            "description": "",
            "description_tooltip": null,
            "layout": "IPY_MODEL_77759e4c93974ba6850f586ea920a947",
            "placeholder": "​",
            "style": "IPY_MODEL_182f12fd4a4c4e3c834461b4abd3a170",
            "value": " 2.11M/2.11M [00:00&lt;00:00, 28.9MB/s]"
          }
        },
        "c3a69baadac24081a3e92c5eacf015ca": {
          "model_module": "@jupyter-widgets/base",
          "model_name": "LayoutModel",
          "model_module_version": "1.2.0",
          "state": {
            "_model_module": "@jupyter-widgets/base",
            "_model_module_version": "1.2.0",
            "_model_name": "LayoutModel",
            "_view_count": null,
            "_view_module": "@jupyter-widgets/base",
            "_view_module_version": "1.2.0",
            "_view_name": "LayoutView",
            "align_content": null,
            "align_items": null,
            "align_self": null,
            "border": null,
            "bottom": null,
            "display": null,
            "flex": null,
            "flex_flow": null,
            "grid_area": null,
            "grid_auto_columns": null,
            "grid_auto_flow": null,
            "grid_auto_rows": null,
            "grid_column": null,
            "grid_gap": null,
            "grid_row": null,
            "grid_template_areas": null,
            "grid_template_columns": null,
            "grid_template_rows": null,
            "height": null,
            "justify_content": null,
            "justify_items": null,
            "left": null,
            "margin": null,
            "max_height": null,
            "max_width": null,
            "min_height": null,
            "min_width": null,
            "object_fit": null,
            "object_position": null,
            "order": null,
            "overflow": null,
            "overflow_x": null,
            "overflow_y": null,
            "padding": null,
            "right": null,
            "top": null,
            "visibility": null,
            "width": null
          }
        },
        "d787acdaf03647a49264a1c519b27aea": {
          "model_module": "@jupyter-widgets/base",
          "model_name": "LayoutModel",
          "model_module_version": "1.2.0",
          "state": {
            "_model_module": "@jupyter-widgets/base",
            "_model_module_version": "1.2.0",
            "_model_name": "LayoutModel",
            "_view_count": null,
            "_view_module": "@jupyter-widgets/base",
            "_view_module_version": "1.2.0",
            "_view_name": "LayoutView",
            "align_content": null,
            "align_items": null,
            "align_self": null,
            "border": null,
            "bottom": null,
            "display": null,
            "flex": null,
            "flex_flow": null,
            "grid_area": null,
            "grid_auto_columns": null,
            "grid_auto_flow": null,
            "grid_auto_rows": null,
            "grid_column": null,
            "grid_gap": null,
            "grid_row": null,
            "grid_template_areas": null,
            "grid_template_columns": null,
            "grid_template_rows": null,
            "height": null,
            "justify_content": null,
            "justify_items": null,
            "left": null,
            "margin": null,
            "max_height": null,
            "max_width": null,
            "min_height": null,
            "min_width": null,
            "object_fit": null,
            "object_position": null,
            "order": null,
            "overflow": null,
            "overflow_x": null,
            "overflow_y": null,
            "padding": null,
            "right": null,
            "top": null,
            "visibility": null,
            "width": null
          }
        },
        "8f2dad4a551a44139c169fbd980bed5f": {
          "model_module": "@jupyter-widgets/controls",
          "model_name": "DescriptionStyleModel",
          "model_module_version": "1.5.0",
          "state": {
            "_model_module": "@jupyter-widgets/controls",
            "_model_module_version": "1.5.0",
            "_model_name": "DescriptionStyleModel",
            "_view_count": null,
            "_view_module": "@jupyter-widgets/base",
            "_view_module_version": "1.2.0",
            "_view_name": "StyleView",
            "description_width": ""
          }
        },
        "3b471e0e661148d3a3847cf117b63d1c": {
          "model_module": "@jupyter-widgets/base",
          "model_name": "LayoutModel",
          "model_module_version": "1.2.0",
          "state": {
            "_model_module": "@jupyter-widgets/base",
            "_model_module_version": "1.2.0",
            "_model_name": "LayoutModel",
            "_view_count": null,
            "_view_module": "@jupyter-widgets/base",
            "_view_module_version": "1.2.0",
            "_view_name": "LayoutView",
            "align_content": null,
            "align_items": null,
            "align_self": null,
            "border": null,
            "bottom": null,
            "display": null,
            "flex": null,
            "flex_flow": null,
            "grid_area": null,
            "grid_auto_columns": null,
            "grid_auto_flow": null,
            "grid_auto_rows": null,
            "grid_column": null,
            "grid_gap": null,
            "grid_row": null,
            "grid_template_areas": null,
            "grid_template_columns": null,
            "grid_template_rows": null,
            "height": null,
            "justify_content": null,
            "justify_items": null,
            "left": null,
            "margin": null,
            "max_height": null,
            "max_width": null,
            "min_height": null,
            "min_width": null,
            "object_fit": null,
            "object_position": null,
            "order": null,
            "overflow": null,
            "overflow_x": null,
            "overflow_y": null,
            "padding": null,
            "right": null,
            "top": null,
            "visibility": null,
            "width": null
          }
        },
        "74c9f0e8b5e4422da22eefcd2396bdea": {
          "model_module": "@jupyter-widgets/controls",
          "model_name": "ProgressStyleModel",
          "model_module_version": "1.5.0",
          "state": {
            "_model_module": "@jupyter-widgets/controls",
            "_model_module_version": "1.5.0",
            "_model_name": "ProgressStyleModel",
            "_view_count": null,
            "_view_module": "@jupyter-widgets/base",
            "_view_module_version": "1.2.0",
            "_view_name": "StyleView",
            "bar_color": null,
            "description_width": ""
          }
        },
        "77759e4c93974ba6850f586ea920a947": {
          "model_module": "@jupyter-widgets/base",
          "model_name": "LayoutModel",
          "model_module_version": "1.2.0",
          "state": {
            "_model_module": "@jupyter-widgets/base",
            "_model_module_version": "1.2.0",
            "_model_name": "LayoutModel",
            "_view_count": null,
            "_view_module": "@jupyter-widgets/base",
            "_view_module_version": "1.2.0",
            "_view_name": "LayoutView",
            "align_content": null,
            "align_items": null,
            "align_self": null,
            "border": null,
            "bottom": null,
            "display": null,
            "flex": null,
            "flex_flow": null,
            "grid_area": null,
            "grid_auto_columns": null,
            "grid_auto_flow": null,
            "grid_auto_rows": null,
            "grid_column": null,
            "grid_gap": null,
            "grid_row": null,
            "grid_template_areas": null,
            "grid_template_columns": null,
            "grid_template_rows": null,
            "height": null,
            "justify_content": null,
            "justify_items": null,
            "left": null,
            "margin": null,
            "max_height": null,
            "max_width": null,
            "min_height": null,
            "min_width": null,
            "object_fit": null,
            "object_position": null,
            "order": null,
            "overflow": null,
            "overflow_x": null,
            "overflow_y": null,
            "padding": null,
            "right": null,
            "top": null,
            "visibility": null,
            "width": null
          }
        },
        "182f12fd4a4c4e3c834461b4abd3a170": {
          "model_module": "@jupyter-widgets/controls",
          "model_name": "DescriptionStyleModel",
          "model_module_version": "1.5.0",
          "state": {
            "_model_module": "@jupyter-widgets/controls",
            "_model_module_version": "1.5.0",
            "_model_name": "DescriptionStyleModel",
            "_view_count": null,
            "_view_module": "@jupyter-widgets/base",
            "_view_module_version": "1.2.0",
            "_view_name": "StyleView",
            "description_width": ""
          }
        },
        "e772a175483b43e494232fdf0d82307c": {
          "model_module": "@jupyter-widgets/controls",
          "model_name": "HBoxModel",
          "model_module_version": "1.5.0",
          "state": {
            "_dom_classes": [],
            "_model_module": "@jupyter-widgets/controls",
            "_model_module_version": "1.5.0",
            "_model_name": "HBoxModel",
            "_view_count": null,
            "_view_module": "@jupyter-widgets/controls",
            "_view_module_version": "1.5.0",
            "_view_name": "HBoxView",
            "box_style": "",
            "children": [
              "IPY_MODEL_b292b80f0ec64334b29a090255ee21b6",
              "IPY_MODEL_9d89e01a238343cb82ff360b83b0ac08",
              "IPY_MODEL_95a39219b5a84354ad61886c5f72ce40"
            ],
            "layout": "IPY_MODEL_2a1e05450438405e8207b927e051d782"
          }
        },
        "b292b80f0ec64334b29a090255ee21b6": {
          "model_module": "@jupyter-widgets/controls",
          "model_name": "HTMLModel",
          "model_module_version": "1.5.0",
          "state": {
            "_dom_classes": [],
            "_model_module": "@jupyter-widgets/controls",
            "_model_module_version": "1.5.0",
            "_model_name": "HTMLModel",
            "_view_count": null,
            "_view_module": "@jupyter-widgets/controls",
            "_view_module_version": "1.5.0",
            "_view_name": "HTMLView",
            "description": "",
            "description_tooltip": null,
            "layout": "IPY_MODEL_2a5a25d8d4fa4cf2afa5df55a11b6be3",
            "placeholder": "​",
            "style": "IPY_MODEL_7a94d73bcad14c79a5008963fb2cbd10",
            "value": "Downloading (…)in/added_tokens.json: 100%"
          }
        },
        "9d89e01a238343cb82ff360b83b0ac08": {
          "model_module": "@jupyter-widgets/controls",
          "model_name": "FloatProgressModel",
          "model_module_version": "1.5.0",
          "state": {
            "_dom_classes": [],
            "_model_module": "@jupyter-widgets/controls",
            "_model_module_version": "1.5.0",
            "_model_name": "FloatProgressModel",
            "_view_count": null,
            "_view_module": "@jupyter-widgets/controls",
            "_view_module_version": "1.5.0",
            "_view_name": "ProgressView",
            "bar_style": "success",
            "description": "",
            "description_tooltip": null,
            "layout": "IPY_MODEL_9ab879f1135d4f9ea64fc2da31e7d4f1",
            "max": 1001,
            "min": 0,
            "orientation": "horizontal",
            "style": "IPY_MODEL_706f818a7621492c81fe12778d2048c5",
            "value": 1001
          }
        },
        "95a39219b5a84354ad61886c5f72ce40": {
          "model_module": "@jupyter-widgets/controls",
          "model_name": "HTMLModel",
          "model_module_version": "1.5.0",
          "state": {
            "_dom_classes": [],
            "_model_module": "@jupyter-widgets/controls",
            "_model_module_version": "1.5.0",
            "_model_name": "HTMLModel",
            "_view_count": null,
            "_view_module": "@jupyter-widgets/controls",
            "_view_module_version": "1.5.0",
            "_view_name": "HTMLView",
            "description": "",
            "description_tooltip": null,
            "layout": "IPY_MODEL_c29b3dbcdf2f4b61ad9f2c5b01966f69",
            "placeholder": "​",
            "style": "IPY_MODEL_18737e152b6247018acc5a320775f9da",
            "value": " 1.00k/1.00k [00:00&lt;00:00, 82.1kB/s]"
          }
        },
        "2a1e05450438405e8207b927e051d782": {
          "model_module": "@jupyter-widgets/base",
          "model_name": "LayoutModel",
          "model_module_version": "1.2.0",
          "state": {
            "_model_module": "@jupyter-widgets/base",
            "_model_module_version": "1.2.0",
            "_model_name": "LayoutModel",
            "_view_count": null,
            "_view_module": "@jupyter-widgets/base",
            "_view_module_version": "1.2.0",
            "_view_name": "LayoutView",
            "align_content": null,
            "align_items": null,
            "align_self": null,
            "border": null,
            "bottom": null,
            "display": null,
            "flex": null,
            "flex_flow": null,
            "grid_area": null,
            "grid_auto_columns": null,
            "grid_auto_flow": null,
            "grid_auto_rows": null,
            "grid_column": null,
            "grid_gap": null,
            "grid_row": null,
            "grid_template_areas": null,
            "grid_template_columns": null,
            "grid_template_rows": null,
            "height": null,
            "justify_content": null,
            "justify_items": null,
            "left": null,
            "margin": null,
            "max_height": null,
            "max_width": null,
            "min_height": null,
            "min_width": null,
            "object_fit": null,
            "object_position": null,
            "order": null,
            "overflow": null,
            "overflow_x": null,
            "overflow_y": null,
            "padding": null,
            "right": null,
            "top": null,
            "visibility": null,
            "width": null
          }
        },
        "2a5a25d8d4fa4cf2afa5df55a11b6be3": {
          "model_module": "@jupyter-widgets/base",
          "model_name": "LayoutModel",
          "model_module_version": "1.2.0",
          "state": {
            "_model_module": "@jupyter-widgets/base",
            "_model_module_version": "1.2.0",
            "_model_name": "LayoutModel",
            "_view_count": null,
            "_view_module": "@jupyter-widgets/base",
            "_view_module_version": "1.2.0",
            "_view_name": "LayoutView",
            "align_content": null,
            "align_items": null,
            "align_self": null,
            "border": null,
            "bottom": null,
            "display": null,
            "flex": null,
            "flex_flow": null,
            "grid_area": null,
            "grid_auto_columns": null,
            "grid_auto_flow": null,
            "grid_auto_rows": null,
            "grid_column": null,
            "grid_gap": null,
            "grid_row": null,
            "grid_template_areas": null,
            "grid_template_columns": null,
            "grid_template_rows": null,
            "height": null,
            "justify_content": null,
            "justify_items": null,
            "left": null,
            "margin": null,
            "max_height": null,
            "max_width": null,
            "min_height": null,
            "min_width": null,
            "object_fit": null,
            "object_position": null,
            "order": null,
            "overflow": null,
            "overflow_x": null,
            "overflow_y": null,
            "padding": null,
            "right": null,
            "top": null,
            "visibility": null,
            "width": null
          }
        },
        "7a94d73bcad14c79a5008963fb2cbd10": {
          "model_module": "@jupyter-widgets/controls",
          "model_name": "DescriptionStyleModel",
          "model_module_version": "1.5.0",
          "state": {
            "_model_module": "@jupyter-widgets/controls",
            "_model_module_version": "1.5.0",
            "_model_name": "DescriptionStyleModel",
            "_view_count": null,
            "_view_module": "@jupyter-widgets/base",
            "_view_module_version": "1.2.0",
            "_view_name": "StyleView",
            "description_width": ""
          }
        },
        "9ab879f1135d4f9ea64fc2da31e7d4f1": {
          "model_module": "@jupyter-widgets/base",
          "model_name": "LayoutModel",
          "model_module_version": "1.2.0",
          "state": {
            "_model_module": "@jupyter-widgets/base",
            "_model_module_version": "1.2.0",
            "_model_name": "LayoutModel",
            "_view_count": null,
            "_view_module": "@jupyter-widgets/base",
            "_view_module_version": "1.2.0",
            "_view_name": "LayoutView",
            "align_content": null,
            "align_items": null,
            "align_self": null,
            "border": null,
            "bottom": null,
            "display": null,
            "flex": null,
            "flex_flow": null,
            "grid_area": null,
            "grid_auto_columns": null,
            "grid_auto_flow": null,
            "grid_auto_rows": null,
            "grid_column": null,
            "grid_gap": null,
            "grid_row": null,
            "grid_template_areas": null,
            "grid_template_columns": null,
            "grid_template_rows": null,
            "height": null,
            "justify_content": null,
            "justify_items": null,
            "left": null,
            "margin": null,
            "max_height": null,
            "max_width": null,
            "min_height": null,
            "min_width": null,
            "object_fit": null,
            "object_position": null,
            "order": null,
            "overflow": null,
            "overflow_x": null,
            "overflow_y": null,
            "padding": null,
            "right": null,
            "top": null,
            "visibility": null,
            "width": null
          }
        },
        "706f818a7621492c81fe12778d2048c5": {
          "model_module": "@jupyter-widgets/controls",
          "model_name": "ProgressStyleModel",
          "model_module_version": "1.5.0",
          "state": {
            "_model_module": "@jupyter-widgets/controls",
            "_model_module_version": "1.5.0",
            "_model_name": "ProgressStyleModel",
            "_view_count": null,
            "_view_module": "@jupyter-widgets/base",
            "_view_module_version": "1.2.0",
            "_view_name": "StyleView",
            "bar_color": null,
            "description_width": ""
          }
        },
        "c29b3dbcdf2f4b61ad9f2c5b01966f69": {
          "model_module": "@jupyter-widgets/base",
          "model_name": "LayoutModel",
          "model_module_version": "1.2.0",
          "state": {
            "_model_module": "@jupyter-widgets/base",
            "_model_module_version": "1.2.0",
            "_model_name": "LayoutModel",
            "_view_count": null,
            "_view_module": "@jupyter-widgets/base",
            "_view_module_version": "1.2.0",
            "_view_name": "LayoutView",
            "align_content": null,
            "align_items": null,
            "align_self": null,
            "border": null,
            "bottom": null,
            "display": null,
            "flex": null,
            "flex_flow": null,
            "grid_area": null,
            "grid_auto_columns": null,
            "grid_auto_flow": null,
            "grid_auto_rows": null,
            "grid_column": null,
            "grid_gap": null,
            "grid_row": null,
            "grid_template_areas": null,
            "grid_template_columns": null,
            "grid_template_rows": null,
            "height": null,
            "justify_content": null,
            "justify_items": null,
            "left": null,
            "margin": null,
            "max_height": null,
            "max_width": null,
            "min_height": null,
            "min_width": null,
            "object_fit": null,
            "object_position": null,
            "order": null,
            "overflow": null,
            "overflow_x": null,
            "overflow_y": null,
            "padding": null,
            "right": null,
            "top": null,
            "visibility": null,
            "width": null
          }
        },
        "18737e152b6247018acc5a320775f9da": {
          "model_module": "@jupyter-widgets/controls",
          "model_name": "DescriptionStyleModel",
          "model_module_version": "1.5.0",
          "state": {
            "_model_module": "@jupyter-widgets/controls",
            "_model_module_version": "1.5.0",
            "_model_name": "DescriptionStyleModel",
            "_view_count": null,
            "_view_module": "@jupyter-widgets/base",
            "_view_module_version": "1.2.0",
            "_view_name": "StyleView",
            "description_width": ""
          }
        },
        "efef4e19370d4b79b466ebd2bb67555e": {
          "model_module": "@jupyter-widgets/controls",
          "model_name": "HBoxModel",
          "model_module_version": "1.5.0",
          "state": {
            "_dom_classes": [],
            "_model_module": "@jupyter-widgets/controls",
            "_model_module_version": "1.5.0",
            "_model_name": "HBoxModel",
            "_view_count": null,
            "_view_module": "@jupyter-widgets/controls",
            "_view_module_version": "1.5.0",
            "_view_name": "HBoxView",
            "box_style": "",
            "children": [
              "IPY_MODEL_c141ba4abf2a4f73a4bcb2e147fc5a05",
              "IPY_MODEL_e4e975162f5c4fc28ecf16d3bf2cba84",
              "IPY_MODEL_798de2c0104246ac889813a8c914b2a8"
            ],
            "layout": "IPY_MODEL_66e983f2aa8445be8d852101bd86e8b4"
          }
        },
        "c141ba4abf2a4f73a4bcb2e147fc5a05": {
          "model_module": "@jupyter-widgets/controls",
          "model_name": "HTMLModel",
          "model_module_version": "1.5.0",
          "state": {
            "_dom_classes": [],
            "_model_module": "@jupyter-widgets/controls",
            "_model_module_version": "1.5.0",
            "_model_name": "HTMLModel",
            "_view_count": null,
            "_view_module": "@jupyter-widgets/controls",
            "_view_module_version": "1.5.0",
            "_view_name": "HTMLView",
            "description": "",
            "description_tooltip": null,
            "layout": "IPY_MODEL_69d0b7fc66844a38b66bd81aefdf2f41",
            "placeholder": "​",
            "style": "IPY_MODEL_ee7c367b873f412184b261f7defe1469",
            "value": "Downloading (…)cial_tokens_map.json: 100%"
          }
        },
        "e4e975162f5c4fc28ecf16d3bf2cba84": {
          "model_module": "@jupyter-widgets/controls",
          "model_name": "FloatProgressModel",
          "model_module_version": "1.5.0",
          "state": {
            "_dom_classes": [],
            "_model_module": "@jupyter-widgets/controls",
            "_model_module_version": "1.5.0",
            "_model_name": "FloatProgressModel",
            "_view_count": null,
            "_view_module": "@jupyter-widgets/controls",
            "_view_module_version": "1.5.0",
            "_view_name": "ProgressView",
            "bar_style": "success",
            "description": "",
            "description_tooltip": null,
            "layout": "IPY_MODEL_f86c38d7144648c3afc0f28311b25669",
            "max": 90,
            "min": 0,
            "orientation": "horizontal",
            "style": "IPY_MODEL_f7b151e416424da1b0eaac0a120b241f",
            "value": 90
          }
        },
        "798de2c0104246ac889813a8c914b2a8": {
          "model_module": "@jupyter-widgets/controls",
          "model_name": "HTMLModel",
          "model_module_version": "1.5.0",
          "state": {
            "_dom_classes": [],
            "_model_module": "@jupyter-widgets/controls",
            "_model_module_version": "1.5.0",
            "_model_name": "HTMLModel",
            "_view_count": null,
            "_view_module": "@jupyter-widgets/controls",
            "_view_module_version": "1.5.0",
            "_view_name": "HTMLView",
            "description": "",
            "description_tooltip": null,
            "layout": "IPY_MODEL_331148ef022c4ec0a92027ed9fb49e9d",
            "placeholder": "​",
            "style": "IPY_MODEL_91fef3f7647a4af9bccccfa05e559117",
            "value": " 90.0/90.0 [00:00&lt;00:00, 5.64kB/s]"
          }
        },
        "66e983f2aa8445be8d852101bd86e8b4": {
          "model_module": "@jupyter-widgets/base",
          "model_name": "LayoutModel",
          "model_module_version": "1.2.0",
          "state": {
            "_model_module": "@jupyter-widgets/base",
            "_model_module_version": "1.2.0",
            "_model_name": "LayoutModel",
            "_view_count": null,
            "_view_module": "@jupyter-widgets/base",
            "_view_module_version": "1.2.0",
            "_view_name": "LayoutView",
            "align_content": null,
            "align_items": null,
            "align_self": null,
            "border": null,
            "bottom": null,
            "display": null,
            "flex": null,
            "flex_flow": null,
            "grid_area": null,
            "grid_auto_columns": null,
            "grid_auto_flow": null,
            "grid_auto_rows": null,
            "grid_column": null,
            "grid_gap": null,
            "grid_row": null,
            "grid_template_areas": null,
            "grid_template_columns": null,
            "grid_template_rows": null,
            "height": null,
            "justify_content": null,
            "justify_items": null,
            "left": null,
            "margin": null,
            "max_height": null,
            "max_width": null,
            "min_height": null,
            "min_width": null,
            "object_fit": null,
            "object_position": null,
            "order": null,
            "overflow": null,
            "overflow_x": null,
            "overflow_y": null,
            "padding": null,
            "right": null,
            "top": null,
            "visibility": null,
            "width": null
          }
        },
        "69d0b7fc66844a38b66bd81aefdf2f41": {
          "model_module": "@jupyter-widgets/base",
          "model_name": "LayoutModel",
          "model_module_version": "1.2.0",
          "state": {
            "_model_module": "@jupyter-widgets/base",
            "_model_module_version": "1.2.0",
            "_model_name": "LayoutModel",
            "_view_count": null,
            "_view_module": "@jupyter-widgets/base",
            "_view_module_version": "1.2.0",
            "_view_name": "LayoutView",
            "align_content": null,
            "align_items": null,
            "align_self": null,
            "border": null,
            "bottom": null,
            "display": null,
            "flex": null,
            "flex_flow": null,
            "grid_area": null,
            "grid_auto_columns": null,
            "grid_auto_flow": null,
            "grid_auto_rows": null,
            "grid_column": null,
            "grid_gap": null,
            "grid_row": null,
            "grid_template_areas": null,
            "grid_template_columns": null,
            "grid_template_rows": null,
            "height": null,
            "justify_content": null,
            "justify_items": null,
            "left": null,
            "margin": null,
            "max_height": null,
            "max_width": null,
            "min_height": null,
            "min_width": null,
            "object_fit": null,
            "object_position": null,
            "order": null,
            "overflow": null,
            "overflow_x": null,
            "overflow_y": null,
            "padding": null,
            "right": null,
            "top": null,
            "visibility": null,
            "width": null
          }
        },
        "ee7c367b873f412184b261f7defe1469": {
          "model_module": "@jupyter-widgets/controls",
          "model_name": "DescriptionStyleModel",
          "model_module_version": "1.5.0",
          "state": {
            "_model_module": "@jupyter-widgets/controls",
            "_model_module_version": "1.5.0",
            "_model_name": "DescriptionStyleModel",
            "_view_count": null,
            "_view_module": "@jupyter-widgets/base",
            "_view_module_version": "1.2.0",
            "_view_name": "StyleView",
            "description_width": ""
          }
        },
        "f86c38d7144648c3afc0f28311b25669": {
          "model_module": "@jupyter-widgets/base",
          "model_name": "LayoutModel",
          "model_module_version": "1.2.0",
          "state": {
            "_model_module": "@jupyter-widgets/base",
            "_model_module_version": "1.2.0",
            "_model_name": "LayoutModel",
            "_view_count": null,
            "_view_module": "@jupyter-widgets/base",
            "_view_module_version": "1.2.0",
            "_view_name": "LayoutView",
            "align_content": null,
            "align_items": null,
            "align_self": null,
            "border": null,
            "bottom": null,
            "display": null,
            "flex": null,
            "flex_flow": null,
            "grid_area": null,
            "grid_auto_columns": null,
            "grid_auto_flow": null,
            "grid_auto_rows": null,
            "grid_column": null,
            "grid_gap": null,
            "grid_row": null,
            "grid_template_areas": null,
            "grid_template_columns": null,
            "grid_template_rows": null,
            "height": null,
            "justify_content": null,
            "justify_items": null,
            "left": null,
            "margin": null,
            "max_height": null,
            "max_width": null,
            "min_height": null,
            "min_width": null,
            "object_fit": null,
            "object_position": null,
            "order": null,
            "overflow": null,
            "overflow_x": null,
            "overflow_y": null,
            "padding": null,
            "right": null,
            "top": null,
            "visibility": null,
            "width": null
          }
        },
        "f7b151e416424da1b0eaac0a120b241f": {
          "model_module": "@jupyter-widgets/controls",
          "model_name": "ProgressStyleModel",
          "model_module_version": "1.5.0",
          "state": {
            "_model_module": "@jupyter-widgets/controls",
            "_model_module_version": "1.5.0",
            "_model_name": "ProgressStyleModel",
            "_view_count": null,
            "_view_module": "@jupyter-widgets/base",
            "_view_module_version": "1.2.0",
            "_view_name": "StyleView",
            "bar_color": null,
            "description_width": ""
          }
        },
        "331148ef022c4ec0a92027ed9fb49e9d": {
          "model_module": "@jupyter-widgets/base",
          "model_name": "LayoutModel",
          "model_module_version": "1.2.0",
          "state": {
            "_model_module": "@jupyter-widgets/base",
            "_model_module_version": "1.2.0",
            "_model_name": "LayoutModel",
            "_view_count": null,
            "_view_module": "@jupyter-widgets/base",
            "_view_module_version": "1.2.0",
            "_view_name": "LayoutView",
            "align_content": null,
            "align_items": null,
            "align_self": null,
            "border": null,
            "bottom": null,
            "display": null,
            "flex": null,
            "flex_flow": null,
            "grid_area": null,
            "grid_auto_columns": null,
            "grid_auto_flow": null,
            "grid_auto_rows": null,
            "grid_column": null,
            "grid_gap": null,
            "grid_row": null,
            "grid_template_areas": null,
            "grid_template_columns": null,
            "grid_template_rows": null,
            "height": null,
            "justify_content": null,
            "justify_items": null,
            "left": null,
            "margin": null,
            "max_height": null,
            "max_width": null,
            "min_height": null,
            "min_width": null,
            "object_fit": null,
            "object_position": null,
            "order": null,
            "overflow": null,
            "overflow_x": null,
            "overflow_y": null,
            "padding": null,
            "right": null,
            "top": null,
            "visibility": null,
            "width": null
          }
        },
        "91fef3f7647a4af9bccccfa05e559117": {
          "model_module": "@jupyter-widgets/controls",
          "model_name": "DescriptionStyleModel",
          "model_module_version": "1.5.0",
          "state": {
            "_model_module": "@jupyter-widgets/controls",
            "_model_module_version": "1.5.0",
            "_model_name": "DescriptionStyleModel",
            "_view_count": null,
            "_view_module": "@jupyter-widgets/base",
            "_view_module_version": "1.2.0",
            "_view_name": "StyleView",
            "description_width": ""
          }
        },
        "c3b5fe5b55524509bbc48c9a38ea6744": {
          "model_module": "@jupyter-widgets/controls",
          "model_name": "HBoxModel",
          "model_module_version": "1.5.0",
          "state": {
            "_dom_classes": [],
            "_model_module": "@jupyter-widgets/controls",
            "_model_module_version": "1.5.0",
            "_model_name": "HBoxModel",
            "_view_count": null,
            "_view_module": "@jupyter-widgets/controls",
            "_view_module_version": "1.5.0",
            "_view_name": "HBoxView",
            "box_style": "",
            "children": [
              "IPY_MODEL_9fa29f2ed7b0484da512055cedaf76d0",
              "IPY_MODEL_5f786c39d6c04c92b481bc26449e86b5",
              "IPY_MODEL_0ef4674b2f7e4260bbd697d5ebc6faa7"
            ],
            "layout": "IPY_MODEL_43a414aefac44a779380ec6e29a540da"
          }
        },
        "9fa29f2ed7b0484da512055cedaf76d0": {
          "model_module": "@jupyter-widgets/controls",
          "model_name": "HTMLModel",
          "model_module_version": "1.5.0",
          "state": {
            "_dom_classes": [],
            "_model_module": "@jupyter-widgets/controls",
            "_model_module_version": "1.5.0",
            "_model_name": "HTMLModel",
            "_view_count": null,
            "_view_module": "@jupyter-widgets/controls",
            "_view_module_version": "1.5.0",
            "_view_name": "HTMLView",
            "description": "",
            "description_tooltip": null,
            "layout": "IPY_MODEL_9de00460da1e4d7aaf9ec61318475434",
            "placeholder": "​",
            "style": "IPY_MODEL_20cc8fd1c2824f998b5ce4c9fcd7f294",
            "value": "Downloading (…)lve/main/config.json: 100%"
          }
        },
        "5f786c39d6c04c92b481bc26449e86b5": {
          "model_module": "@jupyter-widgets/controls",
          "model_name": "FloatProgressModel",
          "model_module_version": "1.5.0",
          "state": {
            "_dom_classes": [],
            "_model_module": "@jupyter-widgets/controls",
            "_model_module_version": "1.5.0",
            "_model_name": "FloatProgressModel",
            "_view_count": null,
            "_view_module": "@jupyter-widgets/controls",
            "_view_module_version": "1.5.0",
            "_view_name": "ProgressView",
            "bar_style": "success",
            "description": "",
            "description_tooltip": null,
            "layout": "IPY_MODEL_cce5356ae74d45338f049f8c90470232",
            "max": 997,
            "min": 0,
            "orientation": "horizontal",
            "style": "IPY_MODEL_4246df2c656447cfa0419534b7b1de56",
            "value": 997
          }
        },
        "0ef4674b2f7e4260bbd697d5ebc6faa7": {
          "model_module": "@jupyter-widgets/controls",
          "model_name": "HTMLModel",
          "model_module_version": "1.5.0",
          "state": {
            "_dom_classes": [],
            "_model_module": "@jupyter-widgets/controls",
            "_model_module_version": "1.5.0",
            "_model_name": "HTMLModel",
            "_view_count": null,
            "_view_module": "@jupyter-widgets/controls",
            "_view_module_version": "1.5.0",
            "_view_name": "HTMLView",
            "description": "",
            "description_tooltip": null,
            "layout": "IPY_MODEL_c8263206fe044a43b0fe0f21e1df70ac",
            "placeholder": "​",
            "style": "IPY_MODEL_3578eab9054748f7bf04b5a021ec95f6",
            "value": " 997/997 [00:00&lt;00:00, 52.4kB/s]"
          }
        },
        "43a414aefac44a779380ec6e29a540da": {
          "model_module": "@jupyter-widgets/base",
          "model_name": "LayoutModel",
          "model_module_version": "1.2.0",
          "state": {
            "_model_module": "@jupyter-widgets/base",
            "_model_module_version": "1.2.0",
            "_model_name": "LayoutModel",
            "_view_count": null,
            "_view_module": "@jupyter-widgets/base",
            "_view_module_version": "1.2.0",
            "_view_name": "LayoutView",
            "align_content": null,
            "align_items": null,
            "align_self": null,
            "border": null,
            "bottom": null,
            "display": null,
            "flex": null,
            "flex_flow": null,
            "grid_area": null,
            "grid_auto_columns": null,
            "grid_auto_flow": null,
            "grid_auto_rows": null,
            "grid_column": null,
            "grid_gap": null,
            "grid_row": null,
            "grid_template_areas": null,
            "grid_template_columns": null,
            "grid_template_rows": null,
            "height": null,
            "justify_content": null,
            "justify_items": null,
            "left": null,
            "margin": null,
            "max_height": null,
            "max_width": null,
            "min_height": null,
            "min_width": null,
            "object_fit": null,
            "object_position": null,
            "order": null,
            "overflow": null,
            "overflow_x": null,
            "overflow_y": null,
            "padding": null,
            "right": null,
            "top": null,
            "visibility": null,
            "width": null
          }
        },
        "9de00460da1e4d7aaf9ec61318475434": {
          "model_module": "@jupyter-widgets/base",
          "model_name": "LayoutModel",
          "model_module_version": "1.2.0",
          "state": {
            "_model_module": "@jupyter-widgets/base",
            "_model_module_version": "1.2.0",
            "_model_name": "LayoutModel",
            "_view_count": null,
            "_view_module": "@jupyter-widgets/base",
            "_view_module_version": "1.2.0",
            "_view_name": "LayoutView",
            "align_content": null,
            "align_items": null,
            "align_self": null,
            "border": null,
            "bottom": null,
            "display": null,
            "flex": null,
            "flex_flow": null,
            "grid_area": null,
            "grid_auto_columns": null,
            "grid_auto_flow": null,
            "grid_auto_rows": null,
            "grid_column": null,
            "grid_gap": null,
            "grid_row": null,
            "grid_template_areas": null,
            "grid_template_columns": null,
            "grid_template_rows": null,
            "height": null,
            "justify_content": null,
            "justify_items": null,
            "left": null,
            "margin": null,
            "max_height": null,
            "max_width": null,
            "min_height": null,
            "min_width": null,
            "object_fit": null,
            "object_position": null,
            "order": null,
            "overflow": null,
            "overflow_x": null,
            "overflow_y": null,
            "padding": null,
            "right": null,
            "top": null,
            "visibility": null,
            "width": null
          }
        },
        "20cc8fd1c2824f998b5ce4c9fcd7f294": {
          "model_module": "@jupyter-widgets/controls",
          "model_name": "DescriptionStyleModel",
          "model_module_version": "1.5.0",
          "state": {
            "_model_module": "@jupyter-widgets/controls",
            "_model_module_version": "1.5.0",
            "_model_name": "DescriptionStyleModel",
            "_view_count": null,
            "_view_module": "@jupyter-widgets/base",
            "_view_module_version": "1.2.0",
            "_view_name": "StyleView",
            "description_width": ""
          }
        },
        "cce5356ae74d45338f049f8c90470232": {
          "model_module": "@jupyter-widgets/base",
          "model_name": "LayoutModel",
          "model_module_version": "1.2.0",
          "state": {
            "_model_module": "@jupyter-widgets/base",
            "_model_module_version": "1.2.0",
            "_model_name": "LayoutModel",
            "_view_count": null,
            "_view_module": "@jupyter-widgets/base",
            "_view_module_version": "1.2.0",
            "_view_name": "LayoutView",
            "align_content": null,
            "align_items": null,
            "align_self": null,
            "border": null,
            "bottom": null,
            "display": null,
            "flex": null,
            "flex_flow": null,
            "grid_area": null,
            "grid_auto_columns": null,
            "grid_auto_flow": null,
            "grid_auto_rows": null,
            "grid_column": null,
            "grid_gap": null,
            "grid_row": null,
            "grid_template_areas": null,
            "grid_template_columns": null,
            "grid_template_rows": null,
            "height": null,
            "justify_content": null,
            "justify_items": null,
            "left": null,
            "margin": null,
            "max_height": null,
            "max_width": null,
            "min_height": null,
            "min_width": null,
            "object_fit": null,
            "object_position": null,
            "order": null,
            "overflow": null,
            "overflow_x": null,
            "overflow_y": null,
            "padding": null,
            "right": null,
            "top": null,
            "visibility": null,
            "width": null
          }
        },
        "4246df2c656447cfa0419534b7b1de56": {
          "model_module": "@jupyter-widgets/controls",
          "model_name": "ProgressStyleModel",
          "model_module_version": "1.5.0",
          "state": {
            "_model_module": "@jupyter-widgets/controls",
            "_model_module_version": "1.5.0",
            "_model_name": "ProgressStyleModel",
            "_view_count": null,
            "_view_module": "@jupyter-widgets/base",
            "_view_module_version": "1.2.0",
            "_view_name": "StyleView",
            "bar_color": null,
            "description_width": ""
          }
        },
        "c8263206fe044a43b0fe0f21e1df70ac": {
          "model_module": "@jupyter-widgets/base",
          "model_name": "LayoutModel",
          "model_module_version": "1.2.0",
          "state": {
            "_model_module": "@jupyter-widgets/base",
            "_model_module_version": "1.2.0",
            "_model_name": "LayoutModel",
            "_view_count": null,
            "_view_module": "@jupyter-widgets/base",
            "_view_module_version": "1.2.0",
            "_view_name": "LayoutView",
            "align_content": null,
            "align_items": null,
            "align_self": null,
            "border": null,
            "bottom": null,
            "display": null,
            "flex": null,
            "flex_flow": null,
            "grid_area": null,
            "grid_auto_columns": null,
            "grid_auto_flow": null,
            "grid_auto_rows": null,
            "grid_column": null,
            "grid_gap": null,
            "grid_row": null,
            "grid_template_areas": null,
            "grid_template_columns": null,
            "grid_template_rows": null,
            "height": null,
            "justify_content": null,
            "justify_items": null,
            "left": null,
            "margin": null,
            "max_height": null,
            "max_width": null,
            "min_height": null,
            "min_width": null,
            "object_fit": null,
            "object_position": null,
            "order": null,
            "overflow": null,
            "overflow_x": null,
            "overflow_y": null,
            "padding": null,
            "right": null,
            "top": null,
            "visibility": null,
            "width": null
          }
        },
        "3578eab9054748f7bf04b5a021ec95f6": {
          "model_module": "@jupyter-widgets/controls",
          "model_name": "DescriptionStyleModel",
          "model_module_version": "1.5.0",
          "state": {
            "_model_module": "@jupyter-widgets/controls",
            "_model_module_version": "1.5.0",
            "_model_name": "DescriptionStyleModel",
            "_view_count": null,
            "_view_module": "@jupyter-widgets/base",
            "_view_module_version": "1.2.0",
            "_view_name": "StyleView",
            "description_width": ""
          }
        },
        "71394b173a2c48fcb264544377e008d6": {
          "model_module": "@jupyter-widgets/controls",
          "model_name": "HBoxModel",
          "model_module_version": "1.5.0",
          "state": {
            "_dom_classes": [],
            "_model_module": "@jupyter-widgets/controls",
            "_model_module_version": "1.5.0",
            "_model_name": "HBoxModel",
            "_view_count": null,
            "_view_module": "@jupyter-widgets/controls",
            "_view_module_version": "1.5.0",
            "_view_name": "HBoxView",
            "box_style": "",
            "children": [
              "IPY_MODEL_5ac9e26764f344d6a47a488384c61b17",
              "IPY_MODEL_ff355f4615824292bd49d13142f1e763",
              "IPY_MODEL_871c3c8fb2d745b3b9393edaf5a3837d"
            ],
            "layout": "IPY_MODEL_5951cbad754d4b65949e36cd6158c294"
          }
        },
        "5ac9e26764f344d6a47a488384c61b17": {
          "model_module": "@jupyter-widgets/controls",
          "model_name": "HTMLModel",
          "model_module_version": "1.5.0",
          "state": {
            "_dom_classes": [],
            "_model_module": "@jupyter-widgets/controls",
            "_model_module_version": "1.5.0",
            "_model_name": "HTMLModel",
            "_view_count": null,
            "_view_module": "@jupyter-widgets/controls",
            "_view_module_version": "1.5.0",
            "_view_name": "HTMLView",
            "description": "",
            "description_tooltip": null,
            "layout": "IPY_MODEL_080206342d8e408c864357d4f2b3f654",
            "placeholder": "​",
            "style": "IPY_MODEL_f929b89400f24624b60a40399ac188a0",
            "value": "Downloading pytorch_model.bin: 100%"
          }
        },
        "ff355f4615824292bd49d13142f1e763": {
          "model_module": "@jupyter-widgets/controls",
          "model_name": "FloatProgressModel",
          "model_module_version": "1.5.0",
          "state": {
            "_dom_classes": [],
            "_model_module": "@jupyter-widgets/controls",
            "_model_module_version": "1.5.0",
            "_model_name": "FloatProgressModel",
            "_view_count": null,
            "_view_module": "@jupyter-widgets/controls",
            "_view_module_version": "1.5.0",
            "_view_name": "ProgressView",
            "bar_style": "success",
            "description": "",
            "description_tooltip": null,
            "layout": "IPY_MODEL_bec61e2acf034bf6b2126577f240bc72",
            "max": 5693021687,
            "min": 0,
            "orientation": "horizontal",
            "style": "IPY_MODEL_bef842d8aea4419bbc5d9fe534774671",
            "value": 5693021687
          }
        },
        "871c3c8fb2d745b3b9393edaf5a3837d": {
          "model_module": "@jupyter-widgets/controls",
          "model_name": "HTMLModel",
          "model_module_version": "1.5.0",
          "state": {
            "_dom_classes": [],
            "_model_module": "@jupyter-widgets/controls",
            "_model_module_version": "1.5.0",
            "_model_name": "HTMLModel",
            "_view_count": null,
            "_view_module": "@jupyter-widgets/controls",
            "_view_module_version": "1.5.0",
            "_view_name": "HTMLView",
            "description": "",
            "description_tooltip": null,
            "layout": "IPY_MODEL_8c4958b3fcdf4d9f991858febc322658",
            "placeholder": "​",
            "style": "IPY_MODEL_8d64ae1506a142a49e1241405a5a1eca",
            "value": " 5.69G/5.69G [00:42&lt;00:00, 190MB/s]"
          }
        },
        "5951cbad754d4b65949e36cd6158c294": {
          "model_module": "@jupyter-widgets/base",
          "model_name": "LayoutModel",
          "model_module_version": "1.2.0",
          "state": {
            "_model_module": "@jupyter-widgets/base",
            "_model_module_version": "1.2.0",
            "_model_name": "LayoutModel",
            "_view_count": null,
            "_view_module": "@jupyter-widgets/base",
            "_view_module_version": "1.2.0",
            "_view_name": "LayoutView",
            "align_content": null,
            "align_items": null,
            "align_self": null,
            "border": null,
            "bottom": null,
            "display": null,
            "flex": null,
            "flex_flow": null,
            "grid_area": null,
            "grid_auto_columns": null,
            "grid_auto_flow": null,
            "grid_auto_rows": null,
            "grid_column": null,
            "grid_gap": null,
            "grid_row": null,
            "grid_template_areas": null,
            "grid_template_columns": null,
            "grid_template_rows": null,
            "height": null,
            "justify_content": null,
            "justify_items": null,
            "left": null,
            "margin": null,
            "max_height": null,
            "max_width": null,
            "min_height": null,
            "min_width": null,
            "object_fit": null,
            "object_position": null,
            "order": null,
            "overflow": null,
            "overflow_x": null,
            "overflow_y": null,
            "padding": null,
            "right": null,
            "top": null,
            "visibility": null,
            "width": null
          }
        },
        "080206342d8e408c864357d4f2b3f654": {
          "model_module": "@jupyter-widgets/base",
          "model_name": "LayoutModel",
          "model_module_version": "1.2.0",
          "state": {
            "_model_module": "@jupyter-widgets/base",
            "_model_module_version": "1.2.0",
            "_model_name": "LayoutModel",
            "_view_count": null,
            "_view_module": "@jupyter-widgets/base",
            "_view_module_version": "1.2.0",
            "_view_name": "LayoutView",
            "align_content": null,
            "align_items": null,
            "align_self": null,
            "border": null,
            "bottom": null,
            "display": null,
            "flex": null,
            "flex_flow": null,
            "grid_area": null,
            "grid_auto_columns": null,
            "grid_auto_flow": null,
            "grid_auto_rows": null,
            "grid_column": null,
            "grid_gap": null,
            "grid_row": null,
            "grid_template_areas": null,
            "grid_template_columns": null,
            "grid_template_rows": null,
            "height": null,
            "justify_content": null,
            "justify_items": null,
            "left": null,
            "margin": null,
            "max_height": null,
            "max_width": null,
            "min_height": null,
            "min_width": null,
            "object_fit": null,
            "object_position": null,
            "order": null,
            "overflow": null,
            "overflow_x": null,
            "overflow_y": null,
            "padding": null,
            "right": null,
            "top": null,
            "visibility": null,
            "width": null
          }
        },
        "f929b89400f24624b60a40399ac188a0": {
          "model_module": "@jupyter-widgets/controls",
          "model_name": "DescriptionStyleModel",
          "model_module_version": "1.5.0",
          "state": {
            "_model_module": "@jupyter-widgets/controls",
            "_model_module_version": "1.5.0",
            "_model_name": "DescriptionStyleModel",
            "_view_count": null,
            "_view_module": "@jupyter-widgets/base",
            "_view_module_version": "1.2.0",
            "_view_name": "StyleView",
            "description_width": ""
          }
        },
        "bec61e2acf034bf6b2126577f240bc72": {
          "model_module": "@jupyter-widgets/base",
          "model_name": "LayoutModel",
          "model_module_version": "1.2.0",
          "state": {
            "_model_module": "@jupyter-widgets/base",
            "_model_module_version": "1.2.0",
            "_model_name": "LayoutModel",
            "_view_count": null,
            "_view_module": "@jupyter-widgets/base",
            "_view_module_version": "1.2.0",
            "_view_name": "LayoutView",
            "align_content": null,
            "align_items": null,
            "align_self": null,
            "border": null,
            "bottom": null,
            "display": null,
            "flex": null,
            "flex_flow": null,
            "grid_area": null,
            "grid_auto_columns": null,
            "grid_auto_flow": null,
            "grid_auto_rows": null,
            "grid_column": null,
            "grid_gap": null,
            "grid_row": null,
            "grid_template_areas": null,
            "grid_template_columns": null,
            "grid_template_rows": null,
            "height": null,
            "justify_content": null,
            "justify_items": null,
            "left": null,
            "margin": null,
            "max_height": null,
            "max_width": null,
            "min_height": null,
            "min_width": null,
            "object_fit": null,
            "object_position": null,
            "order": null,
            "overflow": null,
            "overflow_x": null,
            "overflow_y": null,
            "padding": null,
            "right": null,
            "top": null,
            "visibility": null,
            "width": null
          }
        },
        "bef842d8aea4419bbc5d9fe534774671": {
          "model_module": "@jupyter-widgets/controls",
          "model_name": "ProgressStyleModel",
          "model_module_version": "1.5.0",
          "state": {
            "_model_module": "@jupyter-widgets/controls",
            "_model_module_version": "1.5.0",
            "_model_name": "ProgressStyleModel",
            "_view_count": null,
            "_view_module": "@jupyter-widgets/base",
            "_view_module_version": "1.2.0",
            "_view_name": "StyleView",
            "bar_color": null,
            "description_width": ""
          }
        },
        "8c4958b3fcdf4d9f991858febc322658": {
          "model_module": "@jupyter-widgets/base",
          "model_name": "LayoutModel",
          "model_module_version": "1.2.0",
          "state": {
            "_model_module": "@jupyter-widgets/base",
            "_model_module_version": "1.2.0",
            "_model_name": "LayoutModel",
            "_view_count": null,
            "_view_module": "@jupyter-widgets/base",
            "_view_module_version": "1.2.0",
            "_view_name": "LayoutView",
            "align_content": null,
            "align_items": null,
            "align_self": null,
            "border": null,
            "bottom": null,
            "display": null,
            "flex": null,
            "flex_flow": null,
            "grid_area": null,
            "grid_auto_columns": null,
            "grid_auto_flow": null,
            "grid_auto_rows": null,
            "grid_column": null,
            "grid_gap": null,
            "grid_row": null,
            "grid_template_areas": null,
            "grid_template_columns": null,
            "grid_template_rows": null,
            "height": null,
            "justify_content": null,
            "justify_items": null,
            "left": null,
            "margin": null,
            "max_height": null,
            "max_width": null,
            "min_height": null,
            "min_width": null,
            "object_fit": null,
            "object_position": null,
            "order": null,
            "overflow": null,
            "overflow_x": null,
            "overflow_y": null,
            "padding": null,
            "right": null,
            "top": null,
            "visibility": null,
            "width": null
          }
        },
        "8d64ae1506a142a49e1241405a5a1eca": {
          "model_module": "@jupyter-widgets/controls",
          "model_name": "DescriptionStyleModel",
          "model_module_version": "1.5.0",
          "state": {
            "_model_module": "@jupyter-widgets/controls",
            "_model_module_version": "1.5.0",
            "_model_name": "DescriptionStyleModel",
            "_view_count": null,
            "_view_module": "@jupyter-widgets/base",
            "_view_module_version": "1.2.0",
            "_view_name": "StyleView",
            "description_width": ""
          }
        }
      }
    }
  },
  "cells": [
    {
      "cell_type": "code",
      "execution_count": null,
      "metadata": {
        "colab": {
          "base_uri": "https://localhost:8080/",
          "height": 866,
          "referenced_widgets": [
            "4c02838cc3be48228c3cdc98a7d9489c",
            "ee22982ecd974468a4f47fd6207f0f21",
            "780c4c0565aa48cbacd2ad9ce6d7e73b",
            "14f3c3cc6a0940968e8f214a6f95c252",
            "e54e68b7e96942fb888bf3a18784c260",
            "899b65ba6df14eed92a295c92797a275",
            "4f730d3dde9a45688d3f26fd447a38e2",
            "a01004f08cab4007baf6545e0e2dfa42",
            "1fe0d91053474bd38e176d9d6443996b",
            "fab2c6da73eb4ed2a0a2005dd357d44c",
            "6eb6d56fed4d411692b424c0e85aa191",
            "7caef00c43be446eaf79c301c4c0fa1c",
            "4578ca1cf85f4cd5a59be5726cdd0ece",
            "d4c831b00cc44372bcf5a68ca8c5ada6",
            "74dc028804b94bc982feec9694a28800",
            "37d262772e3f47bdb64644c2bc13afd7",
            "b6ab217fef6f43b0b64cd3a8fa4d4205",
            "34e1c5fb44354eb884efe3a9a1b7fda1",
            "72c068b697454254851788ade06a229d",
            "b3bbc7fe5c934bd0bbaed18620aaf489",
            "18ba5b6ed6d341088fcf08cea0929a40",
            "1658c26ce7bc46589a99df34a868c4d6",
            "c86371ff02634319ae323c011657d8fe",
            "f965c25dd43e4b13875df7fa4ecd77a2",
            "2dcb456e01c1493197be429f7a705507",
            "cff2853f0bdc47de95638397c26fc447",
            "874b2e31fc3b49a99cb258ff19d76329",
            "6dcf2f8e7b68444c94144c22c3460db4",
            "6856224470854e56bf45ade587b6bd0f",
            "d564e48dc58547fdb19b00839b9a0516",
            "b0b9dcb510e24447ae4eb836b1650490",
            "a583a6ce4e144cf688f3cd1ad0cd8ce9",
            "feacd401c3ea4236a176634d2196c596",
            "e1add8018c8d44c48702fb76d97fedff",
            "7bda9d820ad4467d981fbd42b0753f9a",
            "f52f33dff9394d27b016f74e54d0d677",
            "57ae91f7f1dd418b9d2701913ecf15c1",
            "c3a69baadac24081a3e92c5eacf015ca",
            "d787acdaf03647a49264a1c519b27aea",
            "8f2dad4a551a44139c169fbd980bed5f",
            "3b471e0e661148d3a3847cf117b63d1c",
            "74c9f0e8b5e4422da22eefcd2396bdea",
            "77759e4c93974ba6850f586ea920a947",
            "182f12fd4a4c4e3c834461b4abd3a170",
            "e772a175483b43e494232fdf0d82307c",
            "b292b80f0ec64334b29a090255ee21b6",
            "9d89e01a238343cb82ff360b83b0ac08",
            "95a39219b5a84354ad61886c5f72ce40",
            "2a1e05450438405e8207b927e051d782",
            "2a5a25d8d4fa4cf2afa5df55a11b6be3",
            "7a94d73bcad14c79a5008963fb2cbd10",
            "9ab879f1135d4f9ea64fc2da31e7d4f1",
            "706f818a7621492c81fe12778d2048c5",
            "c29b3dbcdf2f4b61ad9f2c5b01966f69",
            "18737e152b6247018acc5a320775f9da",
            "efef4e19370d4b79b466ebd2bb67555e",
            "c141ba4abf2a4f73a4bcb2e147fc5a05",
            "e4e975162f5c4fc28ecf16d3bf2cba84",
            "798de2c0104246ac889813a8c914b2a8",
            "66e983f2aa8445be8d852101bd86e8b4",
            "69d0b7fc66844a38b66bd81aefdf2f41",
            "ee7c367b873f412184b261f7defe1469",
            "f86c38d7144648c3afc0f28311b25669",
            "f7b151e416424da1b0eaac0a120b241f",
            "331148ef022c4ec0a92027ed9fb49e9d",
            "91fef3f7647a4af9bccccfa05e559117",
            "c3b5fe5b55524509bbc48c9a38ea6744",
            "9fa29f2ed7b0484da512055cedaf76d0",
            "5f786c39d6c04c92b481bc26449e86b5",
            "0ef4674b2f7e4260bbd697d5ebc6faa7",
            "43a414aefac44a779380ec6e29a540da",
            "9de00460da1e4d7aaf9ec61318475434",
            "20cc8fd1c2824f998b5ce4c9fcd7f294",
            "cce5356ae74d45338f049f8c90470232",
            "4246df2c656447cfa0419534b7b1de56",
            "c8263206fe044a43b0fe0f21e1df70ac",
            "3578eab9054748f7bf04b5a021ec95f6",
            "71394b173a2c48fcb264544377e008d6",
            "5ac9e26764f344d6a47a488384c61b17",
            "ff355f4615824292bd49d13142f1e763",
            "871c3c8fb2d745b3b9393edaf5a3837d",
            "5951cbad754d4b65949e36cd6158c294",
            "080206342d8e408c864357d4f2b3f654",
            "f929b89400f24624b60a40399ac188a0",
            "bec61e2acf034bf6b2126577f240bc72",
            "bef842d8aea4419bbc5d9fe534774671",
            "8c4958b3fcdf4d9f991858febc322658",
            "8d64ae1506a142a49e1241405a5a1eca"
          ]
        },
        "id": "8JLMwysxXrWu",
        "outputId": "f656a241-6dc0-4564-fe81-cbb50c09b21a"
      },
      "outputs": [
        {
          "output_type": "stream",
          "name": "stdout",
          "text": [
            "Collecting transformers==4.25.1\n",
            "  Downloading transformers-4.25.1-py3-none-any.whl (5.8 MB)\n",
            "\u001b[2K     \u001b[90m━━━━━━━━━━━━━━━━━━━━━━━━━━━━━━━━━━━━━━━━\u001b[0m \u001b[32m5.8/5.8 MB\u001b[0m \u001b[31m16.0 MB/s\u001b[0m eta \u001b[36m0:00:00\u001b[0m\n",
            "\u001b[?25hRequirement already satisfied: filelock in /usr/local/lib/python3.10/dist-packages (from transformers==4.25.1) (3.12.2)\n",
            "Collecting huggingface-hub<1.0,>=0.10.0 (from transformers==4.25.1)\n",
            "  Downloading huggingface_hub-0.16.4-py3-none-any.whl (268 kB)\n",
            "\u001b[2K     \u001b[90m━━━━━━━━━━━━━━━━━━━━━━━━━━━━━━━━━━━━━━\u001b[0m \u001b[32m268.8/268.8 kB\u001b[0m \u001b[31m23.1 MB/s\u001b[0m eta \u001b[36m0:00:00\u001b[0m\n",
            "\u001b[?25hRequirement already satisfied: numpy>=1.17 in /usr/local/lib/python3.10/dist-packages (from transformers==4.25.1) (1.23.5)\n",
            "Requirement already satisfied: packaging>=20.0 in /usr/local/lib/python3.10/dist-packages (from transformers==4.25.1) (23.1)\n",
            "Requirement already satisfied: pyyaml>=5.1 in /usr/local/lib/python3.10/dist-packages (from transformers==4.25.1) (6.0.1)\n",
            "Requirement already satisfied: regex!=2019.12.17 in /usr/local/lib/python3.10/dist-packages (from transformers==4.25.1) (2023.6.3)\n",
            "Requirement already satisfied: requests in /usr/local/lib/python3.10/dist-packages (from transformers==4.25.1) (2.31.0)\n",
            "Collecting tokenizers!=0.11.3,<0.14,>=0.11.1 (from transformers==4.25.1)\n",
            "  Downloading tokenizers-0.13.3-cp310-cp310-manylinux_2_17_x86_64.manylinux2014_x86_64.whl (7.8 MB)\n",
            "\u001b[2K     \u001b[90m━━━━━━━━━━━━━━━━━━━━━━━━━━━━━━━━━━━━━━━━\u001b[0m \u001b[32m7.8/7.8 MB\u001b[0m \u001b[31m28.0 MB/s\u001b[0m eta \u001b[36m0:00:00\u001b[0m\n",
            "\u001b[?25hRequirement already satisfied: tqdm>=4.27 in /usr/local/lib/python3.10/dist-packages (from transformers==4.25.1) (4.66.1)\n",
            "Requirement already satisfied: fsspec in /usr/local/lib/python3.10/dist-packages (from huggingface-hub<1.0,>=0.10.0->transformers==4.25.1) (2023.6.0)\n",
            "Requirement already satisfied: typing-extensions>=3.7.4.3 in /usr/local/lib/python3.10/dist-packages (from huggingface-hub<1.0,>=0.10.0->transformers==4.25.1) (4.7.1)\n",
            "Requirement already satisfied: charset-normalizer<4,>=2 in /usr/local/lib/python3.10/dist-packages (from requests->transformers==4.25.1) (3.2.0)\n",
            "Requirement already satisfied: idna<4,>=2.5 in /usr/local/lib/python3.10/dist-packages (from requests->transformers==4.25.1) (3.4)\n",
            "Requirement already satisfied: urllib3<3,>=1.21.1 in /usr/local/lib/python3.10/dist-packages (from requests->transformers==4.25.1) (2.0.4)\n",
            "Requirement already satisfied: certifi>=2017.4.17 in /usr/local/lib/python3.10/dist-packages (from requests->transformers==4.25.1) (2023.7.22)\n",
            "Installing collected packages: tokenizers, huggingface-hub, transformers\n",
            "Successfully installed huggingface-hub-0.16.4 tokenizers-0.13.3 transformers-4.25.1\n"
          ]
        },
        {
          "output_type": "display_data",
          "data": {
            "text/plain": [
              "Downloading (…)okenizer_config.json:   0%|          | 0.00/240 [00:00<?, ?B/s]"
            ],
            "application/vnd.jupyter.widget-view+json": {
              "version_major": 2,
              "version_minor": 0,
              "model_id": "4c02838cc3be48228c3cdc98a7d9489c"
            }
          },
          "metadata": {}
        },
        {
          "output_type": "display_data",
          "data": {
            "text/plain": [
              "Downloading (…)olve/main/vocab.json:   0%|          | 0.00/798k [00:00<?, ?B/s]"
            ],
            "application/vnd.jupyter.widget-view+json": {
              "version_major": 2,
              "version_minor": 0,
              "model_id": "7caef00c43be446eaf79c301c4c0fa1c"
            }
          },
          "metadata": {}
        },
        {
          "output_type": "display_data",
          "data": {
            "text/plain": [
              "Downloading (…)olve/main/merges.txt:   0%|          | 0.00/456k [00:00<?, ?B/s]"
            ],
            "application/vnd.jupyter.widget-view+json": {
              "version_major": 2,
              "version_minor": 0,
              "model_id": "c86371ff02634319ae323c011657d8fe"
            }
          },
          "metadata": {}
        },
        {
          "output_type": "display_data",
          "data": {
            "text/plain": [
              "Downloading (…)/main/tokenizer.json:   0%|          | 0.00/2.11M [00:00<?, ?B/s]"
            ],
            "application/vnd.jupyter.widget-view+json": {
              "version_major": 2,
              "version_minor": 0,
              "model_id": "e1add8018c8d44c48702fb76d97fedff"
            }
          },
          "metadata": {}
        },
        {
          "output_type": "display_data",
          "data": {
            "text/plain": [
              "Downloading (…)in/added_tokens.json:   0%|          | 0.00/1.00k [00:00<?, ?B/s]"
            ],
            "application/vnd.jupyter.widget-view+json": {
              "version_major": 2,
              "version_minor": 0,
              "model_id": "e772a175483b43e494232fdf0d82307c"
            }
          },
          "metadata": {}
        },
        {
          "output_type": "display_data",
          "data": {
            "text/plain": [
              "Downloading (…)cial_tokens_map.json:   0%|          | 0.00/90.0 [00:00<?, ?B/s]"
            ],
            "application/vnd.jupyter.widget-view+json": {
              "version_major": 2,
              "version_minor": 0,
              "model_id": "efef4e19370d4b79b466ebd2bb67555e"
            }
          },
          "metadata": {}
        },
        {
          "output_type": "display_data",
          "data": {
            "text/plain": [
              "Downloading (…)lve/main/config.json:   0%|          | 0.00/997 [00:00<?, ?B/s]"
            ],
            "application/vnd.jupyter.widget-view+json": {
              "version_major": 2,
              "version_minor": 0,
              "model_id": "c3b5fe5b55524509bbc48c9a38ea6744"
            }
          },
          "metadata": {}
        },
        {
          "output_type": "display_data",
          "data": {
            "text/plain": [
              "Downloading pytorch_model.bin:   0%|          | 0.00/5.69G [00:00<?, ?B/s]"
            ],
            "application/vnd.jupyter.widget-view+json": {
              "version_major": 2,
              "version_minor": 0,
              "model_id": "71394b173a2c48fcb264544377e008d6"
            }
          },
          "metadata": {}
        },
        {
          "output_type": "stream",
          "name": "stderr",
          "text": [
            "Setting `pad_token_id` to `eos_token_id`:50256 for open-end generation.\n",
            "/usr/local/lib/python3.10/dist-packages/transformers/models/codegen/modeling_codegen.py:167: UserWarning: where received a uint8 condition tensor. This behavior is deprecated and will be removed in a future version of PyTorch. Use a boolean condition instead. (Triggered internally at ../aten/src/ATen/native/TensorCompare.cpp:493.)\n",
            "  attn_weights = torch.where(causal_mask, attn_weights, mask_value)\n"
          ]
        },
        {
          "output_type": "stream",
          "name": "stdout",
          "text": [
            "# this function prints hello world\n",
            "\n",
            "def hello_world():\n",
            "    print(\"Hello World\")\n",
            "\n",
            "hello_world()\n"
          ]
        }
      ],
      "source": [
        "%pip install transformers==4.25.1\n",
        "import torch\n",
        "torch.set_default_tensor_type(torch.cuda.FloatTensor)\n",
        "from transformers import AutoTokenizer, AutoModelForCausalLM\n",
        "tokenizer = AutoTokenizer.from_pretrained(\"Salesforce/codegen-2B-mono\")\n",
        "model = AutoModelForCausalLM.from_pretrained(\"Salesforce/codegen-2B-mono\")\n",
        "inputs = tokenizer(\"# this function prints hello world\", return_tensors=\"pt\").to(0)\n",
        "sample = model.generate(**inputs, max_length=128)\n",
        "print(tokenizer.decode(sample[0], truncate_before_pattern=[r\"\\n\\n^#\", \"^'''\", \"\\n\\n\\n\"]))"
      ]
    },
    {
      "cell_type": "code",
      "source": [
        "inputs = tokenizer(\"# this function returns simple interest\", return_tensors=\"pt\").to(0)\n",
        "sample = model.generate(**inputs, max_length=128)\n",
        "print(tokenizer.decode(sample[0], truncate_before_pattern=[r\"\\n\\n^#\", \"^'''\", \"\\n\\n\\n\"]))"
      ],
      "metadata": {
        "colab": {
          "base_uri": "https://localhost:8080/"
        },
        "id": "67_kSws9XzcE",
        "outputId": "11bdc126-71f1-4a12-8e02-c39e5c5151f4"
      },
      "execution_count": null,
      "outputs": [
        {
          "output_type": "stream",
          "name": "stderr",
          "text": [
            "Setting `pad_token_id` to `eos_token_id`:50256 for open-end generation.\n"
          ]
        },
        {
          "output_type": "stream",
          "name": "stdout",
          "text": [
            "# this function returns simple interest\n",
            "# input:\n",
            "#   principal: float\n",
            "#   rate: float\n",
            "#   time: float\n",
            "# output:\n",
            "#   simple interest: float\n",
            "def simple_interest(principal, rate, time):\n",
            "    return principal * (rate * time) / 100\n"
          ]
        }
      ]
    },
    {
      "cell_type": "code",
      "source": [
        "inputs = tokenizer(\"# this function returns maximum element in an array\", return_tensors=\"pt\").to(0)\n",
        "sample = model.generate(**inputs, max_length=128)\n",
        "print(tokenizer.decode(sample[0], truncate_before_pattern=[r\"\\n\\n^#\", \"^'''\", \"\\n\\n\\n\"]))"
      ],
      "metadata": {
        "colab": {
          "base_uri": "https://localhost:8080/"
        },
        "id": "7KzEUCPaYYv-",
        "outputId": "46ce5dc3-8cf9-431a-eba2-c36e8355ab78"
      },
      "execution_count": null,
      "outputs": [
        {
          "output_type": "stream",
          "name": "stderr",
          "text": [
            "Setting `pad_token_id` to `eos_token_id`:50256 for open-end generation.\n"
          ]
        },
        {
          "output_type": "stream",
          "name": "stdout",
          "text": [
            "# this function returns maximum element in an array\n",
            "# if there are multiple maximum elements, it returns the first one\n",
            "\n",
            "def max_element(arr):\n",
            "    max_element = arr[0]\n",
            "    for i in range(1, len(arr)):\n",
            "        if arr[i] > max_element:\n",
            "            max_element = arr[i]\n",
            "    return max_element\n"
          ]
        }
      ]
    },
    {
      "cell_type": "markdown",
      "source": [
        "##### We can see that CodeGen API is generating correct results for the above tasks. We will test the API on some more tasks:"
      ],
      "metadata": {
        "id": "HEbnAE7zY6oW"
      }
    },
    {
      "cell_type": "markdown",
      "source": [
        "#####**Using CodeGen to generate a function to create seaborn/ matplotlib plots**"
      ],
      "metadata": {
        "id": "oi8MBtV1Za2y"
      }
    },
    {
      "cell_type": "code",
      "source": [
        "inputs = tokenizer(\"# this function creates a histogram using matplotlib, given a list of values\", return_tensors=\"pt\").to(0)\n",
        "sample = model.generate(**inputs, max_length=200)\n",
        "print(tokenizer.decode(sample[0], truncate_before_pattern=[r\"\\n\\n^#\", \"^'''\", \"\\n\\n\\n\"]))"
      ],
      "metadata": {
        "colab": {
          "base_uri": "https://localhost:8080/"
        },
        "id": "wIOdVGqmYzWr",
        "outputId": "140e3f10-48e2-41b0-ffa3-8c73348a01ba"
      },
      "execution_count": null,
      "outputs": [
        {
          "output_type": "stream",
          "name": "stderr",
          "text": [
            "Setting `pad_token_id` to `eos_token_id`:50256 for open-end generation.\n"
          ]
        },
        {
          "output_type": "stream",
          "name": "stdout",
          "text": [
            "# this function creates a histogram using matplotlib, given a list of values\n",
            "# it also creates a bar graph using matplotlib\n",
            "# it also creates a pie chart using matplotlib\n",
            "# it also creates a scatter plot using matplotlib\n",
            "# it also creates a line graph using matplotlib\n",
            "# it also creates a bar graph using matplotlib\n",
            "# it also creates a pie chart using matplotlib\n",
            "# it also creates a scatter plot using matplotlib\n",
            "# it also creates a line graph using matplotlib\n",
            "# it also creates a bar graph using matplotlib\n",
            "# it also creates a pie chart using matplotlib\n",
            "# it also creates a scatter plot using matplotlib\n",
            "# it also creates a line graph using matplotlib\n",
            "# it also creates a bar graph using matplotlib\n",
            "# it also creates a pie chart using matplotlib\n",
            "# it also creates a scatter plot using matplotlib\n",
            "# it\n"
          ]
        }
      ]
    },
    {
      "cell_type": "code",
      "source": [
        "inputs = tokenizer(\"# this function creates a bar graph, given a list of x and y axis values, using seaborn\", return_tensors=\"pt\").to(0)\n",
        "sample = model.generate(**inputs, max_length=200)\n",
        "print(tokenizer.decode(sample[0], truncate_before_pattern=[r\"\\n\\n^#\", \"^'''\", \"\\n\\n\\n\"]))"
      ],
      "metadata": {
        "colab": {
          "base_uri": "https://localhost:8080/"
        },
        "id": "vkErdvErZZ_c",
        "outputId": "d2598832-4797-4cf7-c5b7-01808f1b10f7"
      },
      "execution_count": null,
      "outputs": [
        {
          "output_type": "stream",
          "name": "stderr",
          "text": [
            "Setting `pad_token_id` to `eos_token_id`:50256 for open-end generation.\n"
          ]
        },
        {
          "output_type": "stream",
          "name": "stdout",
          "text": [
            "# this function creates a bar graph, given a list of x and y axis values, using seaborn\n",
            "# it also plots the mean of the y axis values\n",
            "# it also plots the standard deviation of the y axis values\n",
            "# it also plots the median of the y axis values\n",
            "# it also plots the quartiles of the y axis values\n",
            "# it also plots the interquartile range of the y axis values\n",
            "# it also plots the range of the y axis values\n",
            "# it also plots the maximum and minimum of the y axis values\n",
            "# it also plots the number of values in the y axis\n",
            "# it also plots the number of values in the x axis\n",
            "# it also plots the number of values in the y axis that are greater than the mean\n",
            "# it also plots the number of values in the y axis that are less than the mean\n",
            "# it also plots the number of values in the y axis that are greater than the median\n",
            "# it also\n"
          ]
        }
      ]
    },
    {
      "cell_type": "markdown",
      "source": [
        "##### we can see that CodeGen is not performing well when asked to generate plots"
      ],
      "metadata": {
        "id": "s8t__R-7aHCz"
      }
    },
    {
      "cell_type": "markdown",
      "source": [
        "#####**Using CodeGen to generate a function that performs multiple tasks**"
      ],
      "metadata": {
        "id": "-N7FNc-RZtIs"
      }
    },
    {
      "cell_type": "code",
      "source": [
        "inputs = tokenizer(\"# this function returns area and perimeter of a square\", return_tensors=\"pt\").to(0)\n",
        "sample = model.generate(**inputs, max_length=128)\n",
        "print(tokenizer.decode(sample[0], truncate_before_pattern=[r\"\\n\\n^#\", \"^'''\", \"\\n\\n\\n\"]))"
      ],
      "metadata": {
        "colab": {
          "base_uri": "https://localhost:8080/"
        },
        "id": "GOlhOYywZnOm",
        "outputId": "7c28c412-8e4e-4753-b898-dc92ade2924a"
      },
      "execution_count": null,
      "outputs": [
        {
          "output_type": "stream",
          "name": "stderr",
          "text": [
            "Setting `pad_token_id` to `eos_token_id`:50256 for open-end generation.\n"
          ]
        },
        {
          "output_type": "stream",
          "name": "stdout",
          "text": [
            "# this function returns area and perimeter of a square\n",
            "# area = length * width\n",
            "# perimeter = 2 * (length + width)\n",
            "\n",
            "def square(length):\n",
            "    area = length * length\n",
            "    perimeter = 2 * (length + length)\n",
            "    return area, perimeter\n"
          ]
        }
      ]
    },
    {
      "cell_type": "code",
      "source": [
        "inputs = tokenizer(\"# this function returns simple interest and compound interest\", return_tensors=\"pt\").to(0)\n",
        "sample = model.generate(**inputs, max_length=200)\n",
        "print(tokenizer.decode(sample[0], truncate_before_pattern=[r\"\\n\\n^#\", \"^'''\", \"\\n\\n\\n\"]))"
      ],
      "metadata": {
        "colab": {
          "base_uri": "https://localhost:8080/"
        },
        "id": "rZNxpuW1Z1Rv",
        "outputId": "b4482e99-89c8-491e-9341-82a5fd0d384a"
      },
      "execution_count": null,
      "outputs": [
        {
          "output_type": "stream",
          "name": "stderr",
          "text": [
            "Setting `pad_token_id` to `eos_token_id`:50256 for open-end generation.\n"
          ]
        },
        {
          "output_type": "stream",
          "name": "stdout",
          "text": [
            "# this function returns simple interest and compound interest\n",
            "# simple interest = (principal * rate * time) / 100\n",
            "# compound interest = (principal * rate * time * (1 + rate) ** time) / ((1 + rate) ** time - 1)\n",
            "\n",
            "def simple_interest(principal, rate, time):\n",
            "    simple_interest = (principal * rate * time) / 100\n",
            "    return simple_interest\n",
            "\n",
            "\n"
          ]
        }
      ]
    },
    {
      "cell_type": "code",
      "source": [
        "inputs = tokenizer(\"# this function returns compound interest and simple interest\", return_tensors=\"pt\").to(0)\n",
        "sample = model.generate(**inputs, max_length=200)\n",
        "print(tokenizer.decode(sample[0], truncate_before_pattern=[r\"\\n\\n^#\", \"^'''\", \"\\n\\n\\n\"]))"
      ],
      "metadata": {
        "colab": {
          "base_uri": "https://localhost:8080/"
        },
        "id": "cNOPQ6eDZ6Ss",
        "outputId": "80f476ea-c108-4a46-af15-071d00aca708"
      },
      "execution_count": null,
      "outputs": [
        {
          "output_type": "stream",
          "name": "stderr",
          "text": [
            "Setting `pad_token_id` to `eos_token_id`:50256 for open-end generation.\n"
          ]
        },
        {
          "output_type": "stream",
          "name": "stdout",
          "text": [
            "# this function returns compound interest and simple interest\n",
            "# for a given principal amount, rate of interest and time\n",
            "# for which the compound interest is to be calculated\n",
            "def compound_interest(principal, rate, time):\n",
            "    compound_interest = principal * (pow((1 + rate / 100), time))\n",
            "    return compound_interest\n"
          ]
        }
      ]
    },
    {
      "cell_type": "code",
      "source": [
        "inputs = tokenizer(\"# this function calculates the maximum element in an array, then calculates the minimum element and takes average of the two values\", return_tensors=\"pt\").to(0)\n",
        "sample = model.generate(**inputs, max_length=200)\n",
        "print(tokenizer.decode(sample[0], truncate_before_pattern=[r\"\\n\\n^#\", \"^'''\", \"\\n\\n\\n\"]))"
      ],
      "metadata": {
        "colab": {
          "base_uri": "https://localhost:8080/"
        },
        "id": "vI9ZaobIaCqx",
        "outputId": "d001267d-4166-4250-eb24-14a9ec64e4f8"
      },
      "execution_count": null,
      "outputs": [
        {
          "output_type": "stream",
          "name": "stderr",
          "text": [
            "Setting `pad_token_id` to `eos_token_id`:50256 for open-end generation.\n"
          ]
        },
        {
          "output_type": "stream",
          "name": "stdout",
          "text": [
            "# this function calculates the maximum element in an array, then calculates the minimum element and takes average of the two values\n",
            "# this function is used to calculate the average of the array\n",
            "\n",
            "def max_min_avg(arr):\n",
            "    max_num = arr[0]\n",
            "    min_num = arr[0]\n",
            "    sum = 0\n",
            "    for i in range(len(arr)):\n",
            "        if arr[i] > max_num:\n",
            "            max_num = arr[i]\n",
            "        if arr[i] < min_num:\n",
            "            min_num = arr[i]\n",
            "        sum += arr[i]\n",
            "    avg = sum / len(arr)\n",
            "    return max_num, min_num, avg\n"
          ]
        }
      ]
    },
    {
      "cell_type": "markdown",
      "source": [
        "#####While the API is able to return the area and perimeter of the square in the 1st function, it is not able to generate accurate for most of the prompts where we are asking it to perform multiple tasks.\n",
        "1. In case of simple and compund interest function, it is returning only the 1st term in the prompt\n",
        "2. In the last function, it is not calculating the average correctly"
      ],
      "metadata": {
        "id": "8Quyc2gcahm0"
      }
    },
    {
      "cell_type": "markdown",
      "source": [
        "##### **Using CodeGen to import popular libraries with different(uncommon) aliases**"
      ],
      "metadata": {
        "id": "934JeJaLa-gM"
      }
    },
    {
      "cell_type": "code",
      "source": [
        "inputs = tokenizer(\"# this code imports numpy as pd\", return_tensors=\"pt\").to(0)\n",
        "sample = model.generate(**inputs, max_length=128)\n",
        "print(tokenizer.decode(sample[0], truncate_before_pattern=[r\"\\n\\n^#\", \"^'''\", \"\\n\\n\\n\"]))"
      ],
      "metadata": {
        "colab": {
          "base_uri": "https://localhost:8080/"
        },
        "id": "wd0RCNF1aFJU",
        "outputId": "d220ae3c-602c-4926-e1bd-2b614ecf6add"
      },
      "execution_count": null,
      "outputs": [
        {
          "output_type": "stream",
          "name": "stderr",
          "text": [
            "Setting `pad_token_id` to `eos_token_id`:50256 for open-end generation.\n"
          ]
        },
        {
          "output_type": "stream",
          "name": "stdout",
          "text": [
            "# this code imports numpy as pd and matplotlib as plt\n",
            "import pandas as pd\n",
            "import numpy as np\n",
            "import matplotlib.pyplot as plt\n",
            "import seaborn as sns\n"
          ]
        }
      ]
    },
    {
      "cell_type": "code",
      "source": [
        "inputs = tokenizer(\"# this code imports numpy as ny\", return_tensors=\"pt\").to(0)\n",
        "sample = model.generate(**inputs, max_length=128)\n",
        "print(tokenizer.decode(sample[0], truncate_before_pattern=[r\"\\n\\n^#\", \"^'''\", \"\\n\\n\\n\"]))"
      ],
      "metadata": {
        "colab": {
          "base_uri": "https://localhost:8080/"
        },
        "id": "VCrIZM-VbPeK",
        "outputId": "7d91c870-c689-4f86-bf19-75723fe21670"
      },
      "execution_count": null,
      "outputs": [
        {
          "output_type": "stream",
          "name": "stderr",
          "text": [
            "Setting `pad_token_id` to `eos_token_id`:50256 for open-end generation.\n"
          ]
        },
        {
          "output_type": "stream",
          "name": "stdout",
          "text": [
            "# this code imports numpy as nympy and matplotlib as mpl\n",
            "import numpy as np\n",
            "import matplotlib.pyplot as plt\n",
            "import matplotlib.cm as cm\n",
            "import matplotlib.colors as colors\n",
            "import matplotlib.animation as animation\n",
            "import matplotlib.patches as patches\n",
            "import matplotlib.patheffects as path_effects\n",
            "import matplotlib.gridspec as gridspec\n",
            "import matplotlib.ticker as ticker\n",
            "import matplotlib.cm as cm\n",
            "import matplotlib.colors\n"
          ]
        }
      ]
    },
    {
      "cell_type": "code",
      "source": [
        "inputs = tokenizer(\"# this code imports pandas as np\", return_tensors=\"pt\").to(0)\n",
        "sample = model.generate(**inputs, max_length=128)\n",
        "print(tokenizer.decode(sample[0], truncate_before_pattern=[r\"\\n\\n^#\", \"^'''\", \"\\n\\n\\n\"]))"
      ],
      "metadata": {
        "colab": {
          "base_uri": "https://localhost:8080/"
        },
        "id": "4-Ps8BbLbWID",
        "outputId": "a801c6b0-6da2-4472-fe00-cfab9203ddc2"
      },
      "execution_count": null,
      "outputs": [
        {
          "output_type": "stream",
          "name": "stderr",
          "text": [
            "Setting `pad_token_id` to `eos_token_id`:50256 for open-end generation.\n"
          ]
        },
        {
          "output_type": "stream",
          "name": "stdout",
          "text": [
            "# this code imports pandas as np and matplotlib.pyplot as plt\n",
            "import pandas as pd\n",
            "import matplotlib.pyplot as plt\n",
            "import numpy as np\n",
            "import seaborn as sns\n",
            "from sklearn.model_selection import train_test_split\n",
            "from sklearn.linear_model import LinearRegression\n",
            "from sklearn.metrics import mean_squared_error\n",
            "from sklearn.metrics import r2_score\n",
            "from sklearn.preprocessing import PolynomialFeatures\n",
            "from sklearn.preprocessing import StandardScaler\n",
            "from sk\n"
          ]
        }
      ]
    },
    {
      "cell_type": "markdown",
      "source": [
        "##### The API is not able to import numpy and pandas using uncommon aliases"
      ],
      "metadata": {
        "id": "uLP3a8zZbgdi"
      }
    },
    {
      "cell_type": "markdown",
      "source": [
        "##### **Using CodeGen to generate functions that return results of some popular equations**"
      ],
      "metadata": {
        "id": "5r-HvunWbya5"
      }
    },
    {
      "cell_type": "code",
      "source": [
        "inputs = tokenizer(\"# this function returns the roots of a quatradtic equation \", return_tensors=\"pt\").to(0)\n",
        "sample = model.generate(**inputs, max_length=1000)\n",
        "print(tokenizer.decode(sample[0], truncate_before_pattern=[r\"\\n\\n^#\", \"^'''\", \"\\n\\n\\n\"]))"
      ],
      "metadata": {
        "colab": {
          "base_uri": "https://localhost:8080/"
        },
        "id": "T9o__51Ebuna",
        "outputId": "fff06916-205e-4e09-ce12-32288ef039b2"
      },
      "execution_count": null,
      "outputs": [
        {
          "output_type": "stream",
          "name": "stderr",
          "text": [
            "Setting `pad_token_id` to `eos_token_id`:50256 for open-end generation.\n"
          ]
        },
        {
          "output_type": "stream",
          "name": "stdout",
          "text": [
            "# this function returns the roots of a quatradtic equation \n",
            "# the roots are returned in the form of a list\n",
            "# the roots are returned in the form of a list\n",
            "# the roots are returned in the form of a list\n",
            "# the roots are returned in the form of a list\n",
            "# the roots are returned in the form of a list\n",
            "# the roots are returned in the form of a list\n",
            "# the roots are returned in the form of a list\n",
            "# the roots are returned in the form of a list\n",
            "# the roots are returned in the form of a list\n",
            "# the roots are returned in the form of a list\n",
            "# the roots are returned in the form of a list\n",
            "# the roots are returned in the form of a list\n",
            "# the roots are returned in the form of a list\n",
            "# the roots are returned in the form of a list\n",
            "# the roots are returned in the form of a list\n",
            "# the roots are returned in the form of a list\n",
            "# the roots are returned in the form of a list\n",
            "# the roots are returned in the form of a list\n",
            "# the roots are returned in the form of a list\n",
            "# the roots are returned in the form of a list\n",
            "# the roots are returned in the form of a list\n",
            "# the roots are returned in the form of a list\n",
            "# the roots are returned in the form of a list\n",
            "# the roots are returned in the form of a list\n",
            "# the roots are returned in the form of a list\n",
            "# the roots are returned in the form of a list\n",
            "# the roots are returned in the form of a list\n",
            "# the roots are returned in the form of a list\n",
            "# the roots are returned in the form of a list\n",
            "# the roots are returned in the form of a list\n",
            "# the roots are returned in the form of a list\n",
            "# the roots are returned in the form of a list\n",
            "# the roots are returned in the form of a list\n",
            "# the roots are returned in the form of a list\n",
            "# the roots are returned in the form of a list\n",
            "# the roots are returned in the form of a list\n",
            "# the roots are returned in the form of a list\n",
            "# the roots are returned in the form of a list\n",
            "# the roots are returned in the form of a list\n",
            "# the roots are returned in the form of a list\n",
            "# the roots are returned in the form of a list\n",
            "# the roots are returned in the form of a list\n",
            "# the roots are returned in the form of a list\n",
            "# the roots are returned in the form of a list\n",
            "# the roots are returned in the form of a list\n",
            "# the roots are returned in the form of a list\n",
            "# the roots are returned in the form of a list\n",
            "# the roots are returned in the form of a list\n",
            "# the roots are returned in the form of a list\n",
            "# the roots are returned in the form of a list\n",
            "# the roots are returned in the form of a list\n",
            "# the roots are returned in the form of a list\n",
            "# the roots are returned in the form of a list\n",
            "# the roots are returned in the form of a list\n",
            "# the roots are returned in the form of a list\n",
            "# the roots are returned in the form of a list\n",
            "# the roots are returned in the form of a list\n",
            "# the roots are returned in the form of a list\n",
            "# the roots are returned in the form of a list\n",
            "# the roots are returned in the form of a list\n",
            "# the roots are returned in the form of a list\n",
            "# the roots are returned in the form of a list\n",
            "# the roots are returned in the form of a list\n",
            "# the roots are returned in the form of a list\n",
            "# the roots are returned in the form of a list\n",
            "# the roots are returned in the form of a list\n",
            "# the roots are returned in the form of a list\n",
            "# the roots are returned in the form of a list\n",
            "# the roots are returned in the form of a list\n",
            "# the roots are returned in the form of a list\n",
            "# the roots are returned in the form of a list\n",
            "# the roots are returned in the form of a list\n",
            "# the roots are returned in the form of a list\n",
            "# the roots are returned in the form of a list\n",
            "# the roots are returned in the form of a list\n",
            "# the roots are returned in the form of a list\n",
            "# the roots are returned in the form of a list\n",
            "# the roots are returned in the form of a list\n",
            "# the roots are returned in the form of a list\n",
            "# the roots are returned in the form of a list\n",
            "# the roots are returned in the form of a list\n",
            "# the roots are returned in the form of a list\n",
            "#\n"
          ]
        }
      ]
    },
    {
      "cell_type": "code",
      "source": [
        "inputs = tokenizer(\"# this function returns the roots of a quatradtic equation, given the constants a,b,c\", return_tensors=\"pt\").to(0)\n",
        "sample = model.generate(**inputs, max_length=1000)\n",
        "print(tokenizer.decode(sample[0], truncate_before_pattern=[r\"\\n\\n^#\", \"^'''\", \"\\n\\n\\n\"]))"
      ],
      "metadata": {
        "colab": {
          "base_uri": "https://localhost:8080/"
        },
        "id": "vNmmadNfb24w",
        "outputId": "efe7c2a9-239a-4f60-8a69-8b6e9ca4dbfd"
      },
      "execution_count": null,
      "outputs": [
        {
          "output_type": "stream",
          "name": "stderr",
          "text": [
            "Setting `pad_token_id` to `eos_token_id`:50256 for open-end generation.\n"
          ]
        },
        {
          "output_type": "stream",
          "name": "stdout",
          "text": [
            "# this function returns the roots of a quatradtic equation, given the constants a,b,c,d\n",
            "\n",
            "import math\n",
            "import numpy as np\n",
            "\n",
            "def quatradic_roots(a,b,c,d):\n",
            "    # this function returns the roots of a quatradic equation, given the constants a,b,c,d\n",
            "    \n",
            "    # if a == 0, then the equation has no real roots\n",
            "    if a == 0:\n",
            "        return None\n",
            "    \n",
            "    # if a == b == c == d, then the equation has a single real root\n",
            "    if a == b == c == d:\n",
            "        return -b / (2 * a)\n",
            "    \n",
            "    # if a == b!= c == d, then the equation has two real roots\n",
            "    if a == b!= c == d:\n",
            "        return -b / (2 * a), -c / (2 * a)\n",
            "    \n",
            "    # if a == b == c!= d, then the equation has three real roots\n",
            "    if a == b == c!= d:\n",
            "        return -b / (2 * a), -c / (2 * a), -d / (2 * a)\n",
            "    \n",
            "    # if a == b!= c == d, then the equation has four real roots\n",
            "    if a == b!= c == d:\n",
            "        return -b / (2 * a), -c / (2 * a), -d / (2 * a), -e / (2 * a)\n",
            "    \n",
            "    # if a == b == c!= d, then the equation has five real roots\n",
            "    if a == b == c!= d:\n",
            "        return -b / (2 * a), -c / (2 * a), -d / (2 * a), -e / (2 * a), -f / (2 * a)\n",
            "    \n",
            "    # if a == b == c == d, then the equation has six real roots\n",
            "    if a == b == c == d:\n",
            "        return -b / (2 * a), -c / (2 * a), -d / (2 * a), -e / (2 * a), -f / (2 * a), -g / (2 * a)\n",
            "    \n",
            "    # if a == b!= c == d, then the equation has seven real roots\n",
            "    if a == b!= c == d:\n",
            "        return -b / (2 * a), -c / (2 * a), -d / (2 * a), -e / (2 * a), -f / (2 * a), -g / (2 * a), -h / (2 * a)\n",
            "    \n",
            "    # if a == b == c!= d, then the equation has eight real roots\n",
            "    if a == b == c!= d:\n",
            "        return -b / (2 * a), -c / (2 * a), -d / (2 * a), -e / (2 * a), -f / (2 * a), -g / (2 * a), -h / (2 * a), -i / (2 * a)\n",
            "    \n",
            "    # if a == b == c == d, then the equation has nine real roots\n",
            "    if a == b == c == d:\n",
            "        return -b / (2 * a), -c / (2 * a), -d / (2 * a), -e / (2 * a), -f / (2 * a), -g / (2 * a), -h / (2 * a), -i / (2 * a), -j / (2 * a)\n",
            "    \n",
            "    # if a == b!= c == d, then the equation has ten real roots\n",
            "    if a == b!= c == d:\n",
            "        return -b / (2 * a), -c / (2 * a), -d / (2 * a), -e / (2 * a), -f / (2 * a), -g / (2 * a), -h / (2 * a), -i / (2 * a), -j / (2 * a), -k / (2 * a)\n",
            "    \n",
            "    # if a == b == c!= d, then the equation has eleven real roots\n",
            "    if a == b == c!= d:\n",
            "        return -b / (2 * a), -c / (2 * a), -d / (2 * a), -e / (2 * a), -f / (2 * a), -g / (2 * a), -h / (2 * a), -i / (2 * a), -j / (\n"
          ]
        }
      ]
    },
    {
      "cell_type": "code",
      "source": [
        "inputs = tokenizer(\"# this function returns the net present value\", return_tensors=\"pt\").to(0)\n",
        "sample = model.generate(**inputs, max_length=200)\n",
        "print(tokenizer.decode(sample[0], truncate_before_pattern=[r\"\\n\\n^#\", \"^'''\", \"\\n\\n\\n\"]))"
      ],
      "metadata": {
        "colab": {
          "base_uri": "https://localhost:8080/"
        },
        "id": "nGwco_UKb96j",
        "outputId": "7ce19cfa-1520-4bfe-e892-a893d575e66d"
      },
      "execution_count": null,
      "outputs": [
        {
          "output_type": "stream",
          "name": "stderr",
          "text": [
            "Setting `pad_token_id` to `eos_token_id`:50256 for open-end generation.\n"
          ]
        },
        {
          "output_type": "stream",
          "name": "stdout",
          "text": [
            "# this function returns the net present value of a single investment\n",
            "# it takes the following inputs:\n",
            "# investment amount, interest rate, and number of years\n",
            "# it returns the net present value\n",
            "def investment_net_present_value(investment_amount, interest_rate, years):\n",
            "    # calculate the investment's present value\n",
            "    investment_value = investment_amount * (1 + interest_rate) ** years\n",
            "    # return the investment's present value\n",
            "    return investment_value\n"
          ]
        }
      ]
    },
    {
      "cell_type": "code",
      "source": [
        "inputs = tokenizer(\"# this function returns the gravitational force, using Newton's universal law of gravitation\", return_tensors=\"pt\").to(0)\n",
        "sample = model.generate(**inputs, max_length=200)\n",
        "print(tokenizer.decode(sample[0], truncate_before_pattern=[r\"\\n\\n^#\", \"^'''\", \"\\n\\n\\n\"]))"
      ],
      "metadata": {
        "colab": {
          "base_uri": "https://localhost:8080/"
        },
        "id": "piayD9Jfb_Fq",
        "outputId": "7c833167-05f8-4b6b-ca07-3590d6e5373d"
      },
      "execution_count": null,
      "outputs": [
        {
          "output_type": "stream",
          "name": "stderr",
          "text": [
            "Setting `pad_token_id` to `eos_token_id`:50256 for open-end generation.\n"
          ]
        },
        {
          "output_type": "stream",
          "name": "stdout",
          "text": [
            "# this function returns the gravitational force, using Newton's universal law of gravitation,\n",
            "# and the gravitational force due to the sun, using Newton's universal law of gravitation\n",
            "# and the gravitational force due to the earth, using Newton's universal law of gravitation\n",
            "# and the gravitational force due to the moon, using Newton's universal law of gravitation\n",
            "# and the gravitational force due to the sun, using Newton's universal law of gravitation\n",
            "# and the gravitational force due to the earth, using Newton's universal law of gravitation\n",
            "# and the gravitational force due to the moon, using Newton's universal law of gravitation\n",
            "# and the gravitational force due to the sun, using Newton's universal law of gravitation\n",
            "# and the gravitational force due to the earth, using Newton's universal law of gravitation\n",
            "# and the gravitational force due to the moon, using Newton's universal law of gravitation\n",
            "# and the gravitational force due to the sun, using\n"
          ]
        }
      ]
    },
    {
      "cell_type": "code",
      "source": [
        "inputs = tokenizer(\"# this function returns force using Newton's 2nd law of motion\", return_tensors=\"pt\").to(0)\n",
        "sample = model.generate(**inputs, max_length=200)\n",
        "print(tokenizer.decode(sample[0], truncate_before_pattern=[r\"\\n\\n^#\", \"^'''\", \"\\n\\n\\n\"]))"
      ],
      "metadata": {
        "colab": {
          "base_uri": "https://localhost:8080/"
        },
        "id": "_C57JqiccCPf",
        "outputId": "dc8012fd-aac0-477b-8c80-8ab3c5037038"
      },
      "execution_count": null,
      "outputs": [
        {
          "output_type": "stream",
          "name": "stderr",
          "text": [
            "Setting `pad_token_id` to `eos_token_id`:50256 for open-end generation.\n"
          ]
        },
        {
          "output_type": "stream",
          "name": "stdout",
          "text": [
            "# this function returns force using Newton's 2nd law of motion\n",
            "# and the given acceleration\n",
            "#\n",
            "# Input:\n",
            "#   x: position\n",
            "#   v: velocity\n",
            "#   a: acceleration\n",
            "#\n",
            "# Output:\n",
            "#   force: force\n",
            "#\n",
            "# Author: Pavan Kumar Paluri\n",
            "# Date: 11/11/2020\n",
            "\n",
            "import math\n",
            "\n",
            "def newtons_2nd_law_of_motion(x, v, a):\n",
            "    # calculate the force\n",
            "    force = (1/2)*(v**2) + (a*x)\n",
            "    return force\n"
          ]
        }
      ]
    },
    {
      "cell_type": "markdown",
      "source": [
        "##### we can see that the model is hallucinating and not generating the correct code for the above examples"
      ],
      "metadata": {
        "id": "eJB_amACdNyK"
      }
    },
    {
      "cell_type": "markdown",
      "source": [
        " While CodeGen API works for a no. of prompts,the API struggles to generate accurate code when asked to write functions to:\n",
        "1.\treturn results of some popular equations , such as function to return roots of quadratic equation, Net  Present Value, Gravitational force using Newton's Law of Universal Gravitation etc.\n",
        "2.\tdisplay (seaborn and matplotlib)plots.\n",
        "3.\tPerform multiple tasks (in a single prompt) (in most cases)\n"
      ],
      "metadata": {
        "id": "RnMC2PIHe4mj"
      }
    },
    {
      "cell_type": "markdown",
      "source": [
        "#####We decided to focus on point 1 and tried to use various techniques for hallucination mitigation"
      ],
      "metadata": {
        "id": "TUNtNBM_fgtW"
      }
    },
    {
      "cell_type": "markdown",
      "source": [
        "###**Hallucination Mitigation**"
      ],
      "metadata": {
        "id": "IPiy81XffxzN"
      }
    },
    {
      "cell_type": "markdown",
      "source": [
        "#####**Web Scraping**\n",
        "\n",
        "We are scraping wikipedia to extract correct equations, corresponding to equation name"
      ],
      "metadata": {
        "id": "tAyo36Xffst9"
      }
    },
    {
      "cell_type": "code",
      "source": [
        "!pip install wikipedia"
      ],
      "metadata": {
        "colab": {
          "base_uri": "https://localhost:8080/"
        },
        "id": "N0eU56mNfphE",
        "outputId": "0255f1ca-f940-4ee0-f001-aae8bbacf67f"
      },
      "execution_count": null,
      "outputs": [
        {
          "output_type": "stream",
          "name": "stdout",
          "text": [
            "Collecting wikipedia\n",
            "  Downloading wikipedia-1.4.0.tar.gz (27 kB)\n",
            "  Preparing metadata (setup.py) ... \u001b[?25l\u001b[?25hdone\n",
            "Requirement already satisfied: beautifulsoup4 in /usr/local/lib/python3.10/dist-packages (from wikipedia) (4.11.2)\n",
            "Requirement already satisfied: requests<3.0.0,>=2.0.0 in /usr/local/lib/python3.10/dist-packages (from wikipedia) (2.31.0)\n",
            "Requirement already satisfied: charset-normalizer<4,>=2 in /usr/local/lib/python3.10/dist-packages (from requests<3.0.0,>=2.0.0->wikipedia) (3.2.0)\n",
            "Requirement already satisfied: idna<4,>=2.5 in /usr/local/lib/python3.10/dist-packages (from requests<3.0.0,>=2.0.0->wikipedia) (3.4)\n",
            "Requirement already satisfied: urllib3<3,>=1.21.1 in /usr/local/lib/python3.10/dist-packages (from requests<3.0.0,>=2.0.0->wikipedia) (2.0.4)\n",
            "Requirement already satisfied: certifi>=2017.4.17 in /usr/local/lib/python3.10/dist-packages (from requests<3.0.0,>=2.0.0->wikipedia) (2023.7.22)\n",
            "Requirement already satisfied: soupsieve>1.2 in /usr/local/lib/python3.10/dist-packages (from beautifulsoup4->wikipedia) (2.4.1)\n",
            "Building wheels for collected packages: wikipedia\n",
            "  Building wheel for wikipedia (setup.py) ... \u001b[?25l\u001b[?25hdone\n",
            "  Created wheel for wikipedia: filename=wikipedia-1.4.0-py3-none-any.whl size=11680 sha256=642629db0eb780a4e3e8201ebfd6f3850298242ed00cc2d02f893543efb1ce4f\n",
            "  Stored in directory: /root/.cache/pip/wheels/5e/b6/c5/93f3dec388ae76edc830cb42901bb0232504dfc0df02fc50de\n",
            "Successfully built wikipedia\n",
            "Installing collected packages: wikipedia\n",
            "Successfully installed wikipedia-1.4.0\n"
          ]
        }
      ]
    },
    {
      "cell_type": "code",
      "source": [
        "import wikipedia\n",
        "from bs4 import BeautifulSoup"
      ],
      "metadata": {
        "id": "rXi7wLEjfgBd"
      },
      "execution_count": null,
      "outputs": []
    },
    {
      "cell_type": "code",
      "source": [
        "topic = wikipedia.page(\"Newton's second law of motion\")\n",
        "equations = BeautifulSoup(topic.html()).find_all('annotation')\n",
        "equations[0].text.split('{\\\\displaystyle ')[1][:-1]"
      ],
      "metadata": {
        "colab": {
          "base_uri": "https://localhost:8080/",
          "height": 35
        },
        "id": "kkRaYcTHbYT-",
        "outputId": "e5e6856e-cce4-41ea-9348-870847bdd1b1"
      },
      "execution_count": null,
      "outputs": [
        {
          "output_type": "execute_result",
          "data": {
            "text/plain": [
              "'{\\\\textbf {F}}={\\\\frac {d}{dt}}(m{\\\\textbf {v}})'"
            ],
            "application/vnd.google.colaboratory.intrinsic+json": {
              "type": "string"
            }
          },
          "metadata": {},
          "execution_count": 21
        }
      ]
    },
    {
      "cell_type": "markdown",
      "source": [
        "#####In addition to the equation, we got various unnecessary characters, which made it difficult to extract the equation from the scraped text. Hence we decided to come up with a different approach for extracting the formulae."
      ],
      "metadata": {
        "id": "lT24gJjZgRnz"
      }
    },
    {
      "cell_type": "markdown",
      "source": [
        "#### **Downloading images and extracting equations from images**\n",
        "we downloaded bing images (using bing_image_downloader package), corresponding to the formula name and use pytesseract package to extract the formula as a string from the downloaded image."
      ],
      "metadata": {
        "id": "691PqpzQgitP"
      }
    },
    {
      "cell_type": "code",
      "source": [
        "!pip install bing-image-downloader"
      ],
      "metadata": {
        "colab": {
          "base_uri": "https://localhost:8080/"
        },
        "id": "7Hm1FaVOgcAC",
        "outputId": "5d0d26f3-ab52-44ed-d9ce-304317295504"
      },
      "execution_count": null,
      "outputs": [
        {
          "output_type": "stream",
          "name": "stdout",
          "text": [
            "Collecting bing-image-downloader\n",
            "  Downloading bing_image_downloader-1.1.2-py3-none-any.whl (5.9 kB)\n",
            "Installing collected packages: bing-image-downloader\n",
            "Successfully installed bing-image-downloader-1.1.2\n"
          ]
        }
      ]
    },
    {
      "cell_type": "code",
      "source": [
        "from bing_image_downloader import downloader\n",
        "query_string=\"Newtons second law of motion\"\n",
        "downloader.download(query_string, limit=1,  output_dir='dataset',\n",
        "adult_filter_off=True, force_replace=False, timeout=60)"
      ],
      "metadata": {
        "colab": {
          "base_uri": "https://localhost:8080/"
        },
        "id": "ErdHNoljg6sa",
        "outputId": "4df069bb-308e-4bd4-8b28-762971fd3440"
      },
      "execution_count": null,
      "outputs": [
        {
          "output_type": "stream",
          "name": "stdout",
          "text": [
            "[%] Downloading Images to /content/dataset/Newtons second law of motion\n",
            "\n",
            "\n",
            "[!!]Indexing page: 1\n",
            "\n",
            "[%] Indexed 1 Images on Page 1.\n",
            "\n",
            "===============================================\n",
            "\n",
            "[%] Downloading Image #1 from https://studiousguy.com/wp-content/uploads/2021/04/Newtons-Second-Law-of-Motion.jpg\n",
            "[%] File Downloaded !\n",
            "\n",
            "\n",
            "\n",
            "[%] Done. Downloaded 1 images.\n"
          ]
        }
      ]
    },
    {
      "cell_type": "markdown",
      "source": [
        "#####The downloaded image/images can be different from the one I got when I executed the code snippet, if someone runs the code again. I got the following image:"
      ],
      "metadata": {
        "id": "JiOEMd-AhJXi"
      }
    },
    {
      "cell_type": "markdown",
      "source": [
        "![image.png](data:image/png;base64,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)"
      ],
      "metadata": {
        "id": "wL558Vhlh4io"
      }
    },
    {
      "cell_type": "markdown",
      "source": [
        "##### we are using the following code to extract equations from images. The code was written in a separate .py file and not on colab notebook as we were facing issues accessing pytesseract executable file from the local machine on colab.\n",
        "We have attached the img_to_txt.py file in the drive. So, the user will have to download the image containing the equation from colab to a local path and then execute the following code from your local using command : py img_to_txt.py"
      ],
      "metadata": {
        "id": "g4AoujR1iIkx"
      }
    },
    {
      "cell_type": "code",
      "source": [
        "# from PIL import Image\n",
        "# from pytesseract import pytesseract\n",
        "\n",
        "# # Defining paths to tesseract.exe\n",
        "# # and the image we would be using\n",
        "# path_to_tesseract = \"C:/Program Files/Tesseract-OCR/tesseract.exe\"\n",
        "# image_path = \"C:/Users/Shrey/Downloads/Image_1.jpg\"\n",
        "\n",
        "# # Opening the image & storing it in an image object\n",
        "# img = Image.open(image_path)\n",
        "\n",
        "# # Providing the tesseract executable\n",
        "# # location to pytesseract library\n",
        "# pytesseract.tesseract_cmd = path_to_tesseract\n",
        "\n",
        "# # Passing the image object to image_to_string() function\n",
        "# # This function will extract the text from the image\n",
        "# text = pytesseract.image_to_string(img)\n",
        "\n",
        "# # Displaying the extracted text\n",
        "# formula=text[:-1]\n",
        "# print(formula)"
      ],
      "metadata": {
        "id": "jUTdpfGthC6F"
      },
      "execution_count": null,
      "outputs": []
    },
    {
      "cell_type": "markdown",
      "source": [
        "got the following result on executing the script:"
      ],
      "metadata": {
        "id": "dhYh-OfCiZHA"
      }
    },
    {
      "cell_type": "markdown",
      "source": [
        "![image.png](data:image/png;base64,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)"
      ],
      "metadata": {
        "id": "F3ke5h1aigcG"
      }
    },
    {
      "cell_type": "markdown",
      "source": [
        "####**Using LLMs (AI21 Jurassic-2 model)**"
      ],
      "metadata": {
        "id": "GoFGJdIVikQ8"
      }
    },
    {
      "cell_type": "markdown",
      "source": [
        "#####We used ai21 Jurassic 2 LLM to generate code from the equation name. This was a prompt engineering task, where we passed prompts to the model to get the correct code.We passed prompts where we asked:\n",
        "i.\tthe model to generate code, given the equation name\n",
        "\n",
        "ii.\tfirst, asked the model to get the corresponding equation, then extracted the input and output variables using Abstract Syntax Trees, and then asked the model to write a function to return the output, given input arguments as parameters\n"
      ],
      "metadata": {
        "id": "YAdRS0RYjSWi"
      }
    },
    {
      "cell_type": "code",
      "source": [
        "!pip install ai21"
      ],
      "metadata": {
        "colab": {
          "base_uri": "https://localhost:8080/"
        },
        "id": "snbzK0C-iPxP",
        "outputId": "71b6b4aa-861b-45b2-9ea0-1406d15c4074"
      },
      "execution_count": null,
      "outputs": [
        {
          "output_type": "stream",
          "name": "stdout",
          "text": [
            "Collecting ai21\n",
            "  Downloading ai21-1.2.5.tar.gz (14 kB)\n",
            "  Preparing metadata (setup.py) ... \u001b[?25l\u001b[?25hdone\n",
            "Requirement already satisfied: requests in /usr/local/lib/python3.10/dist-packages (from ai21) (2.31.0)\n",
            "Requirement already satisfied: charset-normalizer<4,>=2 in /usr/local/lib/python3.10/dist-packages (from requests->ai21) (3.2.0)\n",
            "Requirement already satisfied: idna<4,>=2.5 in /usr/local/lib/python3.10/dist-packages (from requests->ai21) (3.4)\n",
            "Requirement already satisfied: urllib3<3,>=1.21.1 in /usr/local/lib/python3.10/dist-packages (from requests->ai21) (2.0.4)\n",
            "Requirement already satisfied: certifi>=2017.4.17 in /usr/local/lib/python3.10/dist-packages (from requests->ai21) (2023.7.22)\n",
            "Building wheels for collected packages: ai21\n",
            "  Building wheel for ai21 (setup.py) ... \u001b[?25l\u001b[?25hdone\n",
            "  Created wheel for ai21: filename=ai21-1.2.5-py3-none-any.whl size=24567 sha256=cef192794a3a286d0f0e9d714f6187c2789ab7e24fca3546f067e0ed0f2bc110\n",
            "  Stored in directory: /root/.cache/pip/wheels/52/cb/57/af8ae7e37ef917154f7250c2e4b9ab223a5edd958c21ddf459\n",
            "Successfully built ai21\n",
            "Installing collected packages: ai21\n",
            "Successfully installed ai21-1.2.5\n"
          ]
        }
      ]
    },
    {
      "cell_type": "code",
      "source": [
        "import ai21\n",
        "ai21.api_key = 'vbPNxc1zl9UYE2fH0ycXhEtHSvWeKlfJ'"
      ],
      "metadata": {
        "id": "zkbd4QGMjgkf"
      },
      "execution_count": null,
      "outputs": []
    },
    {
      "cell_type": "code",
      "source": [
        "def getResponse(prompt):\n",
        "  response_mid = ai21.Completion.execute(\n",
        "    model=\"j2-mid\",\n",
        "    prompt=prompt,\n",
        "    numResults=1,\n",
        "    maxTokens=300,\n",
        "    temperature=0,\n",
        "    topKReturn=0,\n",
        "    topP=1,\n",
        "    stopSequences=[\"===\"]\n",
        "  )\n",
        "  return response_mid['completions'][0]['data']['text']"
      ],
      "metadata": {
        "id": "4bUQwWPHjlO0"
      },
      "execution_count": null,
      "outputs": []
    },
    {
      "cell_type": "code",
      "source": [
        "alph='abcdefghijklmnopqrstuvwxyz'\n",
        "def process(str):\n",
        "  res=str[0]\n",
        "  for idx in range(len(str)-1):\n",
        "    if str[idx] in alph and str[idx+1] in alph:\n",
        "      res+=\",\"+ str[idx+1]\n",
        "  return res"
      ],
      "metadata": {
        "id": "woVtVUQFjn7C"
      },
      "execution_count": null,
      "outputs": []
    },
    {
      "cell_type": "markdown",
      "source": [
        "i) Single prompt approach:\n",
        "we ask the the model to generate code, given the equation name, using 1 prompt"
      ],
      "metadata": {
        "id": "846V02-2kNmD"
      }
    },
    {
      "cell_type": "code",
      "source": [
        "prompt=\"write a python function to return output of newton's second law of motion\"\n",
        "res=getResponse(prompt)\n",
        "print(res)"
      ],
      "metadata": {
        "colab": {
          "base_uri": "https://localhost:8080/"
        },
        "id": "yWJw908EjutL",
        "outputId": "44095e86-e7b5-4fc1-e4e6-901070cd0b37"
      },
      "execution_count": null,
      "outputs": [
        {
          "output_type": "stream",
          "name": "stdout",
          "text": [
            "\n",
            "```\n",
            "def newtons_second_law(mass, acceleration):\n",
            "    return mass * acceleration\n",
            "\n",
            "```\n",
            "\n",
            "This function takes in two parameters:`mass`and`acceleration`. It returns the product of`mass`and`acceleration`, which is the second law of motion according to Newton's second law of motion.\n"
          ]
        }
      ]
    },
    {
      "cell_type": "code",
      "source": [
        "prompt=\"write a python function to return output of newton's universal law of gravitation\"\n",
        "res=getResponse(prompt)\n",
        "print(res)"
      ],
      "metadata": {
        "colab": {
          "base_uri": "https://localhost:8080/"
        },
        "id": "httJz_bwjvsF",
        "outputId": "9a39af71-0916-4ebc-8655-f6de50d1876e"
      },
      "execution_count": null,
      "outputs": [
        {
          "output_type": "stream",
          "name": "stdout",
          "text": [
            "\n",
            "```\n",
            "def newton_universal_law(m1, m2, r):\n",
            "    return m1 * m2 / r ** 2\n",
            "\n",
            "```\n",
            "\n",
            "This function takes three arguments:`m1`, the mass of the first object,`m2`, the mass of the second object, and`r`, the distance between them. It returns the product of the masses divided by the square of the distance between them. This is Newton's universal law of gravitation.\n"
          ]
        }
      ]
    },
    {
      "cell_type": "markdown",
      "source": [
        "#####We can see that while the model is generating correct equation for Newton's second law, it is not giving accurate results for Newton's law of Gravitation ( function should return Gxm1xm2/r^2)"
      ],
      "metadata": {
        "id": "AaJkLIlokXH-"
      }
    },
    {
      "cell_type": "markdown",
      "source": [
        "ii) multi prompt approach\n",
        "In the first prompt,we asked the model to get the corresponding equation, then extracted the input and output variables using Abstract Syntax Trees, and then asked the model to write a function to return the output, given input arguments as parameters in the second prompt"
      ],
      "metadata": {
        "id": "vEQ3TCrukuhz"
      }
    },
    {
      "cell_type": "code",
      "source": [
        "equationList=[]"
      ],
      "metadata": {
        "id": "QZnevI0TlGp9"
      },
      "execution_count": null,
      "outputs": []
    },
    {
      "cell_type": "code",
      "source": [
        "prompt=\"return only the equation and nothing else. newtons universal law of gravitation equation:\"\n",
        "res=getResponse(prompt)\n",
        "equationList.append(res.split('\\n')[1])\n",
        "equationList"
      ],
      "metadata": {
        "colab": {
          "base_uri": "https://localhost:8080/"
        },
        "id": "IiHTwRJdjytA",
        "outputId": "ceb2a8d5-0c8c-49c1-975a-0d036f2f4fa2"
      },
      "execution_count": null,
      "outputs": [
        {
          "output_type": "execute_result",
          "data": {
            "text/plain": [
              "['F = G * m1 * m2 / r^2']"
            ]
          },
          "metadata": {},
          "execution_count": 33
        }
      ]
    },
    {
      "cell_type": "code",
      "source": [
        "prompt=\"return only the equation and nothing else. newtons second law of motion:\"\n",
        "res=getResponse(prompt)\n",
        "equationList.append(res.split('\\n')[1])\n",
        "equationList"
      ],
      "metadata": {
        "colab": {
          "base_uri": "https://localhost:8080/"
        },
        "id": "0K4YvI26j46P",
        "outputId": "391c3395-59e5-48a7-d3f4-15fac1fa5bff"
      },
      "execution_count": null,
      "outputs": [
        {
          "output_type": "execute_result",
          "data": {
            "text/plain": [
              "['F = G * m1 * m2 / r^2', 'F = ma']"
            ]
          },
          "metadata": {},
          "execution_count": 34
        }
      ]
    },
    {
      "cell_type": "code",
      "source": [
        "import ast\n",
        "\n",
        "for eq in equationList:\n",
        "  inputs=[]\n",
        "  names = [\n",
        "      node.id for node in ast.walk(ast.parse(str(eq)))\n",
        "      if isinstance(node, ast.Name)\n",
        "  ]\n",
        "  inputs=names[1:]\n",
        "  arguments=\"\"\n",
        "  for argument in inputs:\n",
        "    arguments+=str(process(argument))+\",\"\n",
        "  arguments=arguments[:-1]\n",
        "  output=names[0]\n",
        "  prompt=\"given the equation:\"+str(eq)+\" write a python function to return output,\"+output+\". use inputs:\"+arguments+\" as function parameters\"\n",
        "  res=getResponse(prompt)\n",
        "  print(\"--\"*50)\n",
        "  print(\"prompt:\",prompt)\n",
        "  print()\n",
        "  print(res)"
      ],
      "metadata": {
        "colab": {
          "base_uri": "https://localhost:8080/"
        },
        "id": "jVbQO-c1j73-",
        "outputId": "c8d4d5d4-975e-4f3c-e69d-ea390dd9dab1"
      },
      "execution_count": null,
      "outputs": [
        {
          "output_type": "stream",
          "name": "stdout",
          "text": [
            "----------------------------------------------------------------------------------------------------\n",
            "prompt: given the equation:F = G * m1 * m2 / r^2 write a python function to return output,F. use inputs:r,m,G,m as function parameters\n",
            "\n",
            "\n",
            "```\n",
            "def F(r, m, G, m):\n",
            "    return G * m * m / r**2\n",
            "\n",
            "```\n",
            "\n",
            "This function takes in four parameters:`r`,`m`,`G`, and`m`. The`r`parameter represents the radius of the object,`m`represents the mass of the object,`G`represents the gravitational constant, and`m`represents the mass of the other object.\n",
            "\n",
            "The function multiplies`m`by`m`and`G`by`m`, then divides the result by`r**2`to get the force in Newtons. Finally, it returns the force.\n",
            "----------------------------------------------------------------------------------------------------\n",
            "prompt: given the equation:F = ma write a python function to return output,F. use inputs:m,a as function parameters\n",
            "\n",
            "\n",
            "```\n",
            "def force(m, a):\n",
            "    return m * a\n",
            "\n",
            "```\n",
            "\n",
            "This function takes two parameters,`m`and`a`, which represent the mass and acceleration, respectively. The function multiplies these values together and returns the result, which is the force.\n",
            "\n",
            "For example, if the mass is 1 kg and the acceleration is 10 m/s^2, then the output would be:\n",
            "\n",
            "```\n",
            "force(1, 10)\n",
            "# Output: 10\n",
            "\n",
            "```\n"
          ]
        }
      ]
    },
    {
      "cell_type": "markdown",
      "source": [
        "We can see that in this approach, the model is generating correct code in the above examples"
      ],
      "metadata": {
        "id": "qubhpGVSlPDN"
      }
    },
    {
      "cell_type": "code",
      "source": [
        "equationList=[]\n",
        "prompt=\"return only the equation and nothing else. roots of quadratic equation:\"\n",
        "res=getResponse(prompt)\n",
        "print(res)\n",
        "equationList.append(res.split('\\n')[1])\n",
        "equationList"
      ],
      "metadata": {
        "colab": {
          "base_uri": "https://localhost:8080/"
        },
        "id": "6VpzLOG1j9qU",
        "outputId": "34d2c82b-c5cf-40e8-9cdd-a3f68d7b9026"
      },
      "execution_count": null,
      "outputs": [
        {
          "output_type": "stream",
          "name": "stdout",
          "text": [
            "\n",
            "The quadratic equation is:\n",
            "\n",
            "ax^2 + bx + c = 0\n",
            "\n",
            "where a, b, and c are constants and a is not equal to zero.\n"
          ]
        },
        {
          "output_type": "execute_result",
          "data": {
            "text/plain": [
              "['The quadratic equation is:']"
            ]
          },
          "metadata": {},
          "execution_count": 36
        }
      ]
    },
    {
      "cell_type": "markdown",
      "source": [
        "However, we can still not generalize this for all equations, as we can see from above code snippet that the LLMs that we are using are not able to generate the correct equation, as a result of which we won't be able to get the correct code to return roots of quadratic equations"
      ],
      "metadata": {
        "id": "ZQVO9yOilXBI"
      }
    },
    {
      "cell_type": "markdown",
      "source": [
        "#####In order to improve the API and overcome hallucinations, we need to come up with better techniques or improve the ones we tried. We will invest in data preprocessing techniques to clean and normalize equations extracted from sources like Wikipedia or images, reducing irrelevant characters and improving formula accuracy. Image Extraction Refinement will be another technique where in we will invest in refining techniques for extracting equations from images"
      ],
      "metadata": {
        "id": "E4t1152YlyBT"
      }
    },
    {
      "cell_type": "code",
      "source": [],
      "metadata": {
        "id": "4uiM0DSqlw9l"
      },
      "execution_count": null,
      "outputs": []
    }
  ]
}